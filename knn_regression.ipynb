{
  "nbformat": 4,
  "nbformat_minor": 0,
  "metadata": {
    "colab": {
      "name": "Untitled6.ipynb",
      "provenance": [],
      "authorship_tag": "ABX9TyNpQIsPq0LgcXCZHjoyWWkm",
      "include_colab_link": true
    },
    "kernelspec": {
      "name": "python3",
      "display_name": "Python 3"
    }
  },
  "cells": [
    {
      "cell_type": "markdown",
      "metadata": {
        "id": "view-in-github",
        "colab_type": "text"
      },
      "source": [
        "<a href=\"https://colab.research.google.com/github/ZahraMoeini/Regression/blob/main/knn_regression.ipynb\" target=\"_parent\"><img src=\"https://colab.research.google.com/assets/colab-badge.svg\" alt=\"Open In Colab\"/></a>"
      ]
    },
    {
      "cell_type": "code",
      "metadata": {
        "id": "m8jtG-qA5Ccs"
      },
      "source": [
        "import numpy as np\r\n",
        "import pandas as pd\r\n",
        "import matplotlib.pyplot as plt"
      ],
      "execution_count": 37,
      "outputs": []
    },
    {
      "cell_type": "code",
      "metadata": {
        "id": "hOKujdzh5v8v"
      },
      "source": [
        "data=np.random.uniform(1,100,50)"
      ],
      "execution_count": 46,
      "outputs": []
    },
    {
      "cell_type": "code",
      "metadata": {
        "id": "Gm017X926FiD"
      },
      "source": [
        "k=10\r\n",
        "key = 35"
      ],
      "execution_count": 47,
      "outputs": []
    },
    {
      "cell_type": "code",
      "metadata": {
        "colab": {
          "base_uri": "https://localhost:8080/"
        },
        "id": "fKGIFoAG8Lww",
        "outputId": "0f825091-dde9-4641-997f-50d254393f78"
      },
      "source": [
        "neighbors=data[:k]\r\n",
        "dis=np.abs(neighbors-key)\r\n",
        "neighbors"
      ],
      "execution_count": 48,
      "outputs": [
        {
          "output_type": "execute_result",
          "data": {
            "text/plain": [
              "array([ 7.56426791, 97.11796716, 78.95605047, 58.48464601,  6.19334568,\n",
              "       10.94302347,  2.34560263, 10.85294523, 75.4936184 ,  8.32036303])"
            ]
          },
          "metadata": {
            "tags": []
          },
          "execution_count": 48
        }
      ]
    },
    {
      "cell_type": "code",
      "metadata": {
        "colab": {
          "base_uri": "https://localhost:8080/"
        },
        "id": "2hteFQdeKjKn",
        "outputId": "8612e777-c281-41c2-ca60-b42ff484f0b1"
      },
      "source": [
        "sorted_index = dis.argsort()\r\n",
        "sorted_index"
      ],
      "execution_count": 49,
      "outputs": [
        {
          "output_type": "execute_result",
          "data": {
            "text/plain": [
              "array([3, 5, 7, 9, 0, 4, 6, 8, 2, 1])"
            ]
          },
          "metadata": {
            "tags": []
          },
          "execution_count": 49
        }
      ]
    },
    {
      "cell_type": "code",
      "metadata": {
        "colab": {
          "base_uri": "https://localhost:8080/"
        },
        "id": "fNqOy6BSKlCL",
        "outputId": "bd60ea64-2822-4e27-eec8-c2ca127850cf"
      },
      "source": [
        "neighbors=neighbors[sorted_index]\r\n",
        "dis = dis[sorted_index]\r\n",
        "neighbors"
      ],
      "execution_count": 50,
      "outputs": [
        {
          "output_type": "execute_result",
          "data": {
            "text/plain": [
              "array([58.48464601, 10.94302347, 10.85294523,  8.32036303,  7.56426791,\n",
              "        6.19334568,  2.34560263, 75.4936184 , 78.95605047, 97.11796716])"
            ]
          },
          "metadata": {
            "tags": []
          },
          "execution_count": 50
        }
      ]
    },
    {
      "cell_type": "code",
      "metadata": {
        "id": "c-DAYIzDKlFF"
      },
      "source": [
        "for i in range(k,len(data)):\r\n",
        "  dis2key= np.abs(data[i]-key)\r\n",
        "  if  dis2key < dis[k-1]:\r\n",
        "    for j in range(k):\r\n",
        "      curr = k-(j+1)\r\n",
        "      pere = curr -1\r\n",
        "      if dis2key > dis[pere]:\r\n",
        "        dis[curr] = dis2key\r\n",
        "        neighbors[curr]=data[i]\r\n",
        "        break\r\n",
        "      else:\r\n",
        "        dis[curr]=dis[pere]\r\n",
        "        neighbors[curr]=neighbors[pere]\r\n",
        "        if pere == 0:\r\n",
        "          dis[pere]=dis2key\r\n",
        "          neighbors[pere]=data[i]\r\n",
        "          break\r\n",
        "\r\n"
      ],
      "execution_count": 51,
      "outputs": []
    },
    {
      "cell_type": "code",
      "metadata": {
        "colab": {
          "base_uri": "https://localhost:8080/",
          "height": 592
        },
        "id": "1yfFtW5zKlJ3",
        "outputId": "6564e4fb-ea58-4030-9881-e148bec9d7b8"
      },
      "source": [
        "fig = plt.figure(figsize=(15,10))\r\n",
        "plt.scatter(data,np.ones(len(data)))\r\n",
        "plt.plot(key,1,'or')\r\n",
        "plt.plot(neighbors,np.ones(k),'og')\r\n",
        "\r\n",
        "plt.show()"
      ],
      "execution_count": 52,
      "outputs": [
        {
          "output_type": "display_data",
          "data": {
            "image/png": "[encoded data removed]",
            "text/plain": [
              "<Figure size 1080x720 with 1 Axes>"
            ]
          },
          "metadata": {
            "tags": [],
            "needs_background": "light"
          }
        }
      ]
    },
    {
      "cell_type": "code",
      "metadata": {
        "colab": {
          "base_uri": "https://localhost:8080/"
        },
        "id": "HYIQpAzH1oTQ",
        "outputId": "9529cfdd-928c-4a51-9f55-ee86eb97cda7"
      },
      "source": [
        "np.abs(32.35-key)"
      ],
      "execution_count": 45,
      "outputs": [
        {
          "output_type": "execute_result",
          "data": {
            "text/plain": [
              "2.6499999999999986"
            ]
          },
          "metadata": {
            "tags": []
          },
          "execution_count": 45
        }
      ]
    },
    {
      "cell_type": "code",
      "metadata": {
        "id": "o2Lrz9ur5x22"
      },
      "source": [
        ""
      ],
      "execution_count": 45,
      "outputs": []
    }
  ]
}