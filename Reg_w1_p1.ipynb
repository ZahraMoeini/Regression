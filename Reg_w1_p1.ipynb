{
  "nbformat": 4,
  "nbformat_minor": 0,
  "metadata": {
    "colab": {
      "name": "Reg_w1_p1.ipynb",
      "provenance": [],
      "authorship_tag": "ABX9TyM8En1jSfDJ8jdEKRM1HO8E",
      "include_colab_link": true
    },
    "kernelspec": {
      "name": "python3",
      "display_name": "Python 3"
    }
  },
  "cells": [
    {
      "cell_type": "markdown",
      "metadata": {
        "id": "view-in-github",
        "colab_type": "text"
      },
      "source": [
        "<a href=\"https://colab.research.google.com/github/ZahraMoeini/Regression/blob/main/Reg_w1_p1.ipynb\" target=\"_parent\"><img src=\"https://colab.research.google.com/assets/colab-badge.svg\" alt=\"Open In Colab\"/></a>"
      ]
    },
    {
      "cell_type": "code",
      "metadata": {
        "id": "2IQgW6XdQivd"
      },
      "source": [
        "import numpy as np\r\n",
        "import matplotlib.pyplot as plt\r\n",
        "import pandas as pd\r\n",
        "from math import sqrt"
      ],
      "execution_count": null,
      "outputs": []
    },
    {
      "cell_type": "code",
      "metadata": {
        "id": "W9QwIy9DSP9L"
      },
      "source": [
        "X=np.arange(0,5,1)\r\n",
        "Y=np.array([1,3,7,13,21])\r\n"
      ],
      "execution_count": null,
      "outputs": []
    },
    {
      "cell_type": "code",
      "metadata": {
        "colab": {
          "base_uri": "https://localhost:8080/",
          "height": 282
        },
        "id": "7Q7zBvBYTlvD",
        "outputId": "bc3c851c-3615-4a38-dc27-6ea87b1dc96a"
      },
      "source": [
        "plt.plot(x,y,\"*\")\r\n",
        "plt.scatter(x,y)"
      ],
      "execution_count": null,
      "outputs": [
        {
          "output_type": "execute_result",
          "data": {
            "text/plain": [
              "<matplotlib.collections.PathCollection at 0x7f9ad8e8de48>"
            ]
          },
          "metadata": {
            "tags": []
          },
          "execution_count": 11
        },
        {
          "output_type": "display_data",
          "data": {
            "image/png": "[encoded data removed]",
            "text/plain": [
              "<Figure size 432x288 with 1 Axes>"
            ]
          },
          "metadata": {
            "tags": [],
            "needs_background": "light"
          }
        }
      ]
    },
    {
      "cell_type": "code",
      "metadata": {
        "id": "BHtI0l11TuLa"
      },
      "source": [
        "initial_intercept = 0\r\n",
        "initial_slope = 0\r\n",
        "step_size = 0.01\r\n",
        "tolerance = 0.01"
      ],
      "execution_count": null,
      "outputs": []
    },
    {
      "cell_type": "code",
      "metadata": {
        "colab": {
          "base_uri": "https://localhost:8080/"
        },
        "id": "gQtCyDunUgqz",
        "outputId": "368034bc-fbdc-4f94-b104-061d6801bd82"
      },
      "source": [
        "w0=initial_intercept\r\n",
        "w1=initial_slope\r\n",
        "converge=False\r\n",
        "convergew0 = False\r\n",
        "convergew1 = False\r\n",
        "t=0\r\n",
        "RSS_list=[]\r\n",
        "while not converge:\r\n",
        "  Y_hat=w0+w1*X\r\n",
        "  RSS=sum(np.power(Y-Y_hat,2))\r\n",
        "  RSS_list.append(RSS)\r\n",
        "  G_RSS_W0=-2*sum(Y-Y_hat)\r\n",
        "  G_RSS_W1=-2*sum((X)*(Y-Y_hat))\r\n",
        "  if abs(G_RSS_W0) <=tolerance:\r\n",
        "    convergew0=True\r\n",
        "  if abs(G_RSS_W1)<= tolerance:\r\n",
        "    convergew1=True\r\n",
        "  if convergew0 and convergew1:\r\n",
        "    converge=True\r\n",
        "  if t==1000:\r\n",
        "    break\r\n",
        "  if not convergew0 :\r\n",
        "    w0=w0-step_size*G_RSS_W0\r\n",
        "  if not convergew1 :\r\n",
        "    w1=w1-step_size*G_RSS_W1\r\n",
        "  t =t+1\r\n",
        "t"
      ],
      "execution_count": null,
      "outputs": [
        {
          "output_type": "execute_result",
          "data": {
            "text/plain": [
              "195"
            ]
          },
          "metadata": {
            "tags": []
          },
          "execution_count": 68
        }
      ]
    },
    {
      "cell_type": "code",
      "metadata": {
        "colab": {
          "base_uri": "https://localhost:8080/",
          "height": 286
        },
        "id": "JLIZrh2kaSvF",
        "outputId": "20af2eb1-af1d-4d03-d74b-058ec1e2fe3c"
      },
      "source": [
        "plt.plot(range(len(RSS_list)),RSS_list)"
      ],
      "execution_count": null,
      "outputs": [
        {
          "output_type": "execute_result",
          "data": {
            "text/plain": [
              "[<matplotlib.lines.Line2D at 0x7f9ad80eba90>]"
            ]
          },
          "metadata": {
            "tags": []
          },
          "execution_count": 70
        },
        {
          "output_type": "display_data",
          "data": {
            "image/png": "[encoded data removed]",
            "text/plain": [
              "<Figure size 432x288 with 1 Axes>"
            ]
          },
          "metadata": {
            "tags": [],
            "needs_background": "light"
          }
        }
      ]
    },
    {
      "cell_type": "code",
      "metadata": {
        "colab": {
          "base_uri": "https://localhost:8080/",
          "height": 298
        },
        "id": "a6KS4Q54ewug",
        "outputId": "4c48c89f-aff0-467a-886d-b7eeda92f69a"
      },
      "source": [
        "plt.plot(X,Y,'o',X,Y_hat,'r-')"
      ],
      "execution_count": null,
      "outputs": [
        {
          "output_type": "execute_result",
          "data": {
            "text/plain": [
              "[<matplotlib.lines.Line2D at 0x7f9ad8053cf8>,\n",
              " <matplotlib.lines.Line2D at 0x7f9ad8053dd8>]"
            ]
          },
          "metadata": {
            "tags": []
          },
          "execution_count": 71
        },
        {
          "output_type": "display_data",
          "data": {
            "image/png": "[encoded data removed]",
            "text/plain": [
              "<Figure size 432x288 with 1 Axes>"
            ]
          },
          "metadata": {
            "tags": [],
            "needs_background": "light"
          }
        }
      ]
    },
    {
      "cell_type": "code",
      "metadata": {
        "colab": {
          "base_uri": "https://localhost:8080/"
        },
        "id": "CqQ9S4CKfMz6",
        "outputId": "ab24db70-1b9f-43a5-9c03-139db70cc353"
      },
      "source": [
        "w0=initial_intercept\r\n",
        "w1=initial_slope\r\n",
        "step_size = 0.05\r\n",
        "tolerance = 0.01\r\n",
        "converge=False\r\n",
        "t=0\r\n",
        "RSS_list=[]\r\n",
        "while not converge:\r\n",
        "  Y_hat=w0+w1*X\r\n",
        "  RSS=sum(np.power(Y-Y_hat,2))\r\n",
        "  RSS_list.append(RSS)\r\n",
        "  G_RSS_W0=-1*sum(Y-Y_hat)\r\n",
        "  G_RSS_W1=-1*sum((X)*(Y-Y_hat))\r\n",
        "  print(\"gw0={0},gw1={1},rss={2}\".format(G_RSS_W0, G_RSS_W1,RSS))\r\n",
        "  if sqrt(np.power(G_RSS_W0,2)+np.power(G_RSS_W1,2)) <= tolerance:\r\n",
        "    converge=True\r\n",
        "    break  \r\n",
        "  if t==90:\r\n",
        "    break\r\n",
        "  w0=w0-step_size*G_RSS_W0\r\n",
        "  w1=w1-step_size*G_RSS_W1\r\n",
        "  t =t+1\r\n",
        "t"
      ],
      "execution_count": null,
      "outputs": [
        {
          "output_type": "stream",
          "text": [
            "gw0=-45,gw1=-140,rss=669\n",
            "gw0=36.25,gw1=92.5,rss=316.8125\n",
            "gw0=-19.0625,gw1=-64.375,rss=155.58203125\n",
            "gw0=17.890625,gw1=41.71875,rss=81.540283203125\n",
            "gw0=-7.44140625,gw1=-29.8046875,rss=47.34114074707031\n",
            "gw0=9.3212890625,gw1=18.623046875,rss=31.377324104309082\n",
            "gw0=-2.320556640625,gw1=-13.97216796875,rss=23.78385478258133\n",
            "gw0=5.24566650390625,gw1=8.1463623046875,rss=20.05329217389226\n",
            "gw0=-0.1389312744140625,gw1=-6.696014404296875,rss=18.12312770378776\n",
            "gw0=3.2438087463378906,gw1=3.4174728393554688,rss=17.04703785579477\n",
            "gw0=0.7241201400756836,gw1=-3.3306407928466797,rss=16.388640426438542\n",
            "gw0=2.2084105014801025,gw1=1.303260326385498,rss=15.944841397280754\n",
            "gw0=1.0046777129173279,gw1=-1.7558354139328003,rss=15.619541667353435\n",
            "gw0=1.631425991654396,gw1=0.3755788505077362,rss=15.365944767588587\n",
            "gw0=1.035780068486929,gw1=-1.0035024210810661,rss=15.160169043650086\n",
            "gw0=1.2785862619057298,gw1=-0.016138823702931404,rss=14.989149694951447\n",
            "gw0=0.967009108280763,gw1=-0.6312237191013992,rss=14.84506794194796\n",
            "gw0=1.0408686907612719,gw1=-0.16789269458968192,rss=14.722765074216287\n",
            "gw0=0.8645978653657949,gw1=-0.43648799808579497,rss=14.618524495085454\n",
            "gw0=0.8666923980672436,gw1=-0.21405493363999994,rss=14.529483292683924\n",
            "gw0=0.7570467653704327,gw1=-0.32631873221362184,rss=14.45333569075489\n",
            "gw0=0.7309444401346354,gw1=-0.21536401657840543,rss=14.388173682911138\n",
            "gw0=0.6558903383901793,gw1=-0.257790211778115,rss=14.33239370461974\n",
            "gw0=0.620812859681692,gw1=-0.19905006330603214,rss=14.284636392426243\n",
            "gw0=0.565134676414285,gw1=-0.21088139818782992,rss=14.24374397419236\n",
            "gw0=0.5292917064046279,gw1=-0.17712663911322934,rss=14.208727875335974\n",
            "gw0=0.4855320993600918,gw1=-0.17608253364568327,rss=14.178742846459574\n",
            "gw0=0.45219034134290315,gw1=-0.15472478285722246,rss=14.15306565967507\n",
            "gw0=0.4165051474357915,gw1=-0.14873277924283457,rss=14.13107725392526\n",
            "gw0=0.3867452501982678,gw1=-0.13388618409645758,rss=14.112247622466345\n",
            "gw0=0.3570020296969303,gw1=-0.12642953305089932,rss=14.096122952172493\n",
            "gw0=0.3309662887981455,gw1=-0.11528624832302015,rss=14.082314647200494\n",
            "gw0=0.30586784076011586,gw1=-0.10784002023757466,rss=14.070489946258272\n",
            "gw0=0.2833208906888798,gw1=-0.0990139102612595,rss=14.060363895401302\n",
            "gw0=0.261997623147292,gw1=-0.09215349021379815,rss=14.051692477457049\n",
            "gw0=0.2425749624673661,gw1=-0.08492206646675271,rss=14.044266730021253\n",
            "gw0=0.22439225508390281,gw1=-0.07882644800029937,rss=14.037907709146225\n",
            "gw0=0.2077074153130809,gw1=-0.07278290354179262,rss=14.03246217683988\n",
            "gw0=0.19217201325570699,gw1=-0.06746225588564414,rss=14.027798908217097\n",
            "gw0=0.17786013788460053,gw1=-0.06235487868503853,rss=14.023805529206868\n",
            "gw0=0.16457254275596744,gw1=-0.05775262959978633,rss=14.02038580856171\n",
            "gw0=0.15230572186687263,gw1=-0.05340995657807923,rss=14.017457338890807\n",
            "gw0=0.1409342696891871,gw1=-0.04944788264441513,rss=14.01494955082476\n",
            "gw0=0.1304246435891021,gw1=-0.04574319352237488,rss=14.012802012453283\n",
            "gw0=0.12069007945301191,gw1=-0.042340725033371385,rss=14.010962973054017\n",
            "gw0=0.11168792210644352,gw1=-0.039174677209821596,rss=14.009388116018826\n",
            "gw0=0.10335328018474055,gw1=-0.03625662244832384,rss=14.008039490925494\n",
            "gw0=0.09564327136271888,gw1=-0.03354832886819992,rss=14.006884599019845\n",
            "gw0=0.08850661795614112,gw1=-0.03104747124725371,rss=14.005895610070787\n",
            "gw0=0.08190369909073114,gw1=-0.028729573354446813,rss=14.005048691725769\n",
            "gw0=0.07579256099527187,gw1=-0.026587062868141942,rss=14.004323435206175\n",
            "gw0=0.07013795218052854,gw1=-0.024602749063554086,rss=14.00370236350273\n",
            "gw0=0.06490483866716712,gw1=-0.022767601558509654,rss=14.003170510219924\n",
            "gw0=0.0600624297796335,gw1=-0.021068618554316743,rss=14.002715058920389\n",
            "gw0=0.05558113161188105,gw1=-0.01949690561266415,rss=14.00232503427835\n",
            "gw0=0.05143430151524164,gw1=-0.01804211299961267,rss=14.00199103759957\n",
            "gw0=0.04759678263623446,gw1=-0.01669609425782248,rss=14.001705020334438\n",
            "gw0=0.044045634106088194,gw1=-0.015450344189204657,rss=14.001460090126628\n",
            "gw0=0.04075939767417136,gw1=-0.014297644958432443,rss=14.001250344723061\n",
            "gw0=0.03771837073483919,gw1=-0.013230876357887666,rss=14.001070729743297\n",
            "gw0=0.03490421623007922,gw1=-0.012243747188453113,rss=14.000916916880627\n",
            "gw0=0.03230003576678353,gw1=-0.011330234520825044,rss=14.000785199599866\n",
            "gw0=0.02989014408550217,gw1=-0.01048490062297347,rss=14.000672403818317\n",
            "gw0=0.027660058375611474,gw1=-0.009702621731268124,rss=14.000575811417834\n",
            "gw0=0.02559635464733878,gw1=-0.008978718322183,rss=14.000493094744387\n",
            "gw0=0.023686625146599916,gw1=-0.008308818162566567,rss=14.000422260516919\n",
            "gw0=0.021919377941233442,gw1=-0.007688903492013566,rss=14.000361601793923\n",
            "gw0=0.020283985201931642,gw1=-0.007115237224610382,rss=14.0003096568401\n",
            "gw0=0.01877060751375792,gw1=-0.006584373988651748,rss=14.00026517390189\n",
            "gw0=0.017370142629644203,gw1=-0.006093116762553308,rss=14.000227081043064\n",
            "gw0=0.016074165353509695,gw1=-0.005638512933543893,rss=14.000194460313594\n",
            "gw0=0.014874880481898778,gw1=-0.005217826209998222,rss=14.000166525629139\n",
            "gw0=0.013765073466424305,gw1=-0.004828527135948946,rss=14.000142603828255\n",
            "gw0=0.012738068667796476,gw1=-0.004468273165224801,rss=14.000122118450701\n",
            "gw0=0.011787688083459535,gw1=-0.004134897751288946,rss=14.000104575846137\n",
            "gw0=0.010908214938238459,gw1=-0.003826395166086627,rss=14.00008955327824\n",
            "gw0=0.01009435878672349,gw1=-0.0035409098860732513,rss=14.000076688737806\n",
            "gw0=0.009341224033075246,gw1=-0.0032767244503357773,rss=14.000065672219053\n"
          ],
          "name": "stdout"
        },
        {
          "output_type": "execute_result",
          "data": {
            "text/plain": [
              "77"
            ]
          },
          "metadata": {
            "tags": []
          },
          "execution_count": 83
        }
      ]
    },
    {
      "cell_type": "code",
      "metadata": {
        "colab": {
          "base_uri": "https://localhost:8080/"
        },
        "id": "I-QkIwd3ng0g",
        "outputId": "2a4941c7-d15a-483e-d39e-aa6a5004acd2"
      },
      "source": [
        "w0"
      ],
      "execution_count": null,
      "outputs": [
        {
          "output_type": "execute_result",
          "data": {
            "text/plain": [
              "-0.9937399206900879"
            ]
          },
          "metadata": {
            "tags": []
          },
          "execution_count": 84
        }
      ]
    },
    {
      "cell_type": "code",
      "metadata": {
        "colab": {
          "base_uri": "https://localhost:8080/"
        },
        "id": "NkVvlktSnhyg",
        "outputId": "e97871d6-8bd0-47bb-8afe-3299df481b98"
      },
      "source": [
        "w1"
      ],
      "execution_count": null,
      "outputs": [
        {
          "output_type": "execute_result",
          "data": {
            "text/plain": [
              "4.997804082748352"
            ]
          },
          "metadata": {
            "tags": []
          },
          "execution_count": 85
        }
      ]
    },
    {
      "cell_type": "code",
      "metadata": {
        "colab": {
          "base_uri": "https://localhost:8080/",
          "height": 298
        },
        "id": "Xd5ADkaAnjEt",
        "outputId": "c169247c-f1f9-4243-a91d-8c268350753e"
      },
      "source": [
        "plt.plot(X,Y,'o',X,Y_hat,'r-')"
      ],
      "execution_count": null,
      "outputs": [
        {
          "output_type": "execute_result",
          "data": {
            "text/plain": [
              "[<matplotlib.lines.Line2D at 0x7f9ad7ff32e8>,\n",
              " <matplotlib.lines.Line2D at 0x7f9ad7ff33c8>]"
            ]
          },
          "metadata": {
            "tags": []
          },
          "execution_count": 86
        },
        {
          "output_type": "display_data",
          "data": {
            "image/png": "[encoded data removed]",
            "text/plain": [
              "<Figure size 432x288 with 1 Axes>"
            ]
          },
          "metadata": {
            "tags": [],
            "needs_background": "light"
          }
        }
      ]
    },
    {
      "cell_type": "code",
      "metadata": {
        "id": "wY2OjpeDthB7"
      },
      "source": [
        ""
      ],
      "execution_count": null,
      "outputs": []
    }
  ]
}