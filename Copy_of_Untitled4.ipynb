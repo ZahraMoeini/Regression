{
  "nbformat": 4,
  "nbformat_minor": 0,
  "metadata": {
    "colab": {
      "name": "Copy of Untitled4.ipynb",
      "provenance": [],
      "authorship_tag": "ABX9TyOr4iS80TSYiPS6qZkF41pn",
      "include_colab_link": true
    },
    "kernelspec": {
      "name": "python3",
      "display_name": "Python 3"
    }
  },
  "cells": [
    {
      "cell_type": "markdown",
      "metadata": {
        "id": "view-in-github",
        "colab_type": "text"
      },
      "source": [
        "<a href=\"https://colab.research.google.com/github/ZahraMoeini/Regression/blob/main/Copy_of_Untitled4.ipynb\" target=\"_parent\"><img src=\"https://colab.research.google.com/assets/colab-badge.svg\" alt=\"Open In Colab\"/></a>"
      ]
    },
    {
      "cell_type": "code",
      "metadata": {
        "id": "_6UIbre4nfsT"
      },
      "source": [
        "import numpy as np\r\n",
        "import pandas as pd\r\n",
        "from matplotlib import pyplot as plt\r\n",
        "import seaborn as sns\r\n",
        "from sklearn.linear_model import LinearRegression\r\n",
        "from sklearn.tree import DecisionTreeClassifier\r\n",
        "from sklearn.model_selection import train_test_split\r\n",
        "from sklearn.metrics import r2_score, explained_variance_score, mean_absolute_error, mean_squared_error\r\n",
        "import math"
      ],
      "execution_count": null,
      "outputs": []
    },
    {
      "cell_type": "code",
      "metadata": {
        "id": "BFwMFcLtL7V7"
      },
      "source": [
        "link =  \"https://raw.githubusercontent.com/ZahraMoeini/Regression/main/Data/kc_house_data.csv\"\r\n"
      ],
      "execution_count": null,
      "outputs": []
    },
    {
      "cell_type": "markdown",
      "metadata": {
        "id": "MqeCzvSoNFFU"
      },
      "source": [
        "***Read Data***"
      ]
    },
    {
      "cell_type": "code",
      "metadata": {
        "id": "LY7uWOL3MW8o"
      },
      "source": [
        "data = pd.read_csv(link, error_bad_lines=False )\r\n",
        "\r\n",
        "\r\n"
      ],
      "execution_count": null,
      "outputs": []
    },
    {
      "cell_type": "markdown",
      "metadata": {
        "id": "ZOCmhHleyTSx"
      },
      "source": [
        "***`print shape and show 5 first rows`***"
      ]
    },
    {
      "cell_type": "code",
      "metadata": {
        "colab": {
          "base_uri": "https://localhost:8080/",
          "height": 232
        },
        "id": "VA_itFQcyoXL",
        "outputId": "fb817d5e-ecbe-4676-9f14-55feb80d9756"
      },
      "source": [
        "print(data.shape)\r\n",
        "data.head()"
      ],
      "execution_count": null,
      "outputs": [
        {
          "output_type": "stream",
          "text": [
            "(21613, 21)\n"
          ],
          "name": "stdout"
        },
        {
          "output_type": "execute_result",
          "data": {
            "text/html": [
              "<div>\n",
              "<style scoped>\n",
              "    .dataframe tbody tr th:only-of-type {\n",
              "        vertical-align: middle;\n",
              "    }\n",
              "\n",
              "    .dataframe tbody tr th {\n",
              "        vertical-align: top;\n",
              "    }\n",
              "\n",
              "    .dataframe thead th {\n",
              "        text-align: right;\n",
              "    }\n",
              "</style>\n",
              "<table border=\"1\" class=\"dataframe\">\n",
              "  <thead>\n",
              "    <tr style=\"text-align: right;\">\n",
              "      <th></th>\n",
              "      <th>id</th>\n",
              "      <th>date</th>\n",
              "      <th>price</th>\n",
              "      <th>bedrooms</th>\n",
              "      <th>bathrooms</th>\n",
              "      <th>sqft_living</th>\n",
              "      <th>sqft_lot</th>\n",
              "      <th>floors</th>\n",
              "      <th>waterfront</th>\n",
              "      <th>view</th>\n",
              "      <th>condition</th>\n",
              "      <th>grade</th>\n",
              "      <th>sqft_above</th>\n",
              "      <th>sqft_basement</th>\n",
              "      <th>yr_built</th>\n",
              "      <th>yr_renovated</th>\n",
              "      <th>zipcode</th>\n",
              "      <th>lat</th>\n",
              "      <th>long</th>\n",
              "      <th>sqft_living15</th>\n",
              "      <th>sqft_lot15</th>\n",
              "    </tr>\n",
              "  </thead>\n",
              "  <tbody>\n",
              "    <tr>\n",
              "      <th>0</th>\n",
              "      <td>7129300520</td>\n",
              "      <td>20141013T000000</td>\n",
              "      <td>221900.0</td>\n",
              "      <td>3</td>\n",
              "      <td>1.00</td>\n",
              "      <td>1180</td>\n",
              "      <td>5650</td>\n",
              "      <td>1.0</td>\n",
              "      <td>0</td>\n",
              "      <td>0</td>\n",
              "      <td>3</td>\n",
              "      <td>7</td>\n",
              "      <td>1180</td>\n",
              "      <td>0</td>\n",
              "      <td>1955</td>\n",
              "      <td>0</td>\n",
              "      <td>98178</td>\n",
              "      <td>47.5112</td>\n",
              "      <td>-122.257</td>\n",
              "      <td>1340</td>\n",
              "      <td>5650</td>\n",
              "    </tr>\n",
              "    <tr>\n",
              "      <th>1</th>\n",
              "      <td>6414100192</td>\n",
              "      <td>20141209T000000</td>\n",
              "      <td>538000.0</td>\n",
              "      <td>3</td>\n",
              "      <td>2.25</td>\n",
              "      <td>2570</td>\n",
              "      <td>7242</td>\n",
              "      <td>2.0</td>\n",
              "      <td>0</td>\n",
              "      <td>0</td>\n",
              "      <td>3</td>\n",
              "      <td>7</td>\n",
              "      <td>2170</td>\n",
              "      <td>400</td>\n",
              "      <td>1951</td>\n",
              "      <td>1991</td>\n",
              "      <td>98125</td>\n",
              "      <td>47.7210</td>\n",
              "      <td>-122.319</td>\n",
              "      <td>1690</td>\n",
              "      <td>7639</td>\n",
              "    </tr>\n",
              "    <tr>\n",
              "      <th>2</th>\n",
              "      <td>5631500400</td>\n",
              "      <td>20150225T000000</td>\n",
              "      <td>180000.0</td>\n",
              "      <td>2</td>\n",
              "      <td>1.00</td>\n",
              "      <td>770</td>\n",
              "      <td>10000</td>\n",
              "      <td>1.0</td>\n",
              "      <td>0</td>\n",
              "      <td>0</td>\n",
              "      <td>3</td>\n",
              "      <td>6</td>\n",
              "      <td>770</td>\n",
              "      <td>0</td>\n",
              "      <td>1933</td>\n",
              "      <td>0</td>\n",
              "      <td>98028</td>\n",
              "      <td>47.7379</td>\n",
              "      <td>-122.233</td>\n",
              "      <td>2720</td>\n",
              "      <td>8062</td>\n",
              "    </tr>\n",
              "    <tr>\n",
              "      <th>3</th>\n",
              "      <td>2487200875</td>\n",
              "      <td>20141209T000000</td>\n",
              "      <td>604000.0</td>\n",
              "      <td>4</td>\n",
              "      <td>3.00</td>\n",
              "      <td>1960</td>\n",
              "      <td>5000</td>\n",
              "      <td>1.0</td>\n",
              "      <td>0</td>\n",
              "      <td>0</td>\n",
              "      <td>5</td>\n",
              "      <td>7</td>\n",
              "      <td>1050</td>\n",
              "      <td>910</td>\n",
              "      <td>1965</td>\n",
              "      <td>0</td>\n",
              "      <td>98136</td>\n",
              "      <td>47.5208</td>\n",
              "      <td>-122.393</td>\n",
              "      <td>1360</td>\n",
              "      <td>5000</td>\n",
              "    </tr>\n",
              "    <tr>\n",
              "      <th>4</th>\n",
              "      <td>1954400510</td>\n",
              "      <td>20150218T000000</td>\n",
              "      <td>510000.0</td>\n",
              "      <td>3</td>\n",
              "      <td>2.00</td>\n",
              "      <td>1680</td>\n",
              "      <td>8080</td>\n",
              "      <td>1.0</td>\n",
              "      <td>0</td>\n",
              "      <td>0</td>\n",
              "      <td>3</td>\n",
              "      <td>8</td>\n",
              "      <td>1680</td>\n",
              "      <td>0</td>\n",
              "      <td>1987</td>\n",
              "      <td>0</td>\n",
              "      <td>98074</td>\n",
              "      <td>47.6168</td>\n",
              "      <td>-122.045</td>\n",
              "      <td>1800</td>\n",
              "      <td>7503</td>\n",
              "    </tr>\n",
              "  </tbody>\n",
              "</table>\n",
              "</div>"
            ],
            "text/plain": [
              "           id             date     price  ...     long  sqft_living15  sqft_lot15\n",
              "0  7129300520  20141013T000000  221900.0  ... -122.257           1340        5650\n",
              "1  6414100192  20141209T000000  538000.0  ... -122.319           1690        7639\n",
              "2  5631500400  20150225T000000  180000.0  ... -122.233           2720        8062\n",
              "3  2487200875  20141209T000000  604000.0  ... -122.393           1360        5000\n",
              "4  1954400510  20150218T000000  510000.0  ... -122.045           1800        7503\n",
              "\n",
              "[5 rows x 21 columns]"
            ]
          },
          "metadata": {
            "tags": []
          },
          "execution_count": 5
        }
      ]
    },
    {
      "cell_type": "code",
      "metadata": {
        "id": "qYc91_her9yc"
      },
      "source": [
        ""
      ],
      "execution_count": null,
      "outputs": []
    },
    {
      "cell_type": "markdown",
      "metadata": {
        "id": "FdCdiwp6yrlz"
      },
      "source": [
        "***show null data and show number of null data***"
      ]
    },
    {
      "cell_type": "code",
      "metadata": {
        "colab": {
          "base_uri": "https://localhost:8080/"
        },
        "id": "nEnGnfWYsBFL",
        "outputId": "f54e1aa0-8836-4996-ef49-4c827e5cf5bd"
      },
      "source": [
        "data.isnull\r\n",
        "data.isnull().sum()"
      ],
      "execution_count": null,
      "outputs": [
        {
          "output_type": "execute_result",
          "data": {
            "text/plain": [
              "id               0\n",
              "date             0\n",
              "price            0\n",
              "bedrooms         0\n",
              "bathrooms        0\n",
              "sqft_living      0\n",
              "sqft_lot         0\n",
              "floors           0\n",
              "waterfront       0\n",
              "view             0\n",
              "condition        0\n",
              "grade            0\n",
              "sqft_above       0\n",
              "sqft_basement    0\n",
              "yr_built         0\n",
              "yr_renovated     0\n",
              "zipcode          0\n",
              "lat              0\n",
              "long             0\n",
              "sqft_living15    0\n",
              "sqft_lot15       0\n",
              "dtype: int64"
            ]
          },
          "metadata": {
            "tags": []
          },
          "execution_count": 6
        }
      ]
    },
    {
      "cell_type": "markdown",
      "metadata": {
        "id": "kdspEGcUz3iJ"
      },
      "source": [
        "***delete null data***"
      ]
    },
    {
      "cell_type": "code",
      "metadata": {
        "id": "hlVXb_nfz8bb"
      },
      "source": [
        " data=data.dropna()"
      ],
      "execution_count": null,
      "outputs": []
    },
    {
      "cell_type": "markdown",
      "metadata": {
        "id": "6741Jf-Y3eN8"
      },
      "source": [
        "***show feature of each elemane***"
      ]
    },
    {
      "cell_type": "code",
      "metadata": {
        "colab": {
          "base_uri": "https://localhost:8080/"
        },
        "id": "Kubmh_i0NPvw",
        "outputId": "e83c9909-0242-4799-83a2-3c82df8e7227"
      },
      "source": [
        "for column in data:\r\n",
        "  unique_vals=np.unique(data[column])\r\n",
        "  nr_values=len(unique_vals)\r\n",
        "  if nr_values<10:\r\n",
        "   print('The number of value of feature:{}/{}/{}'.format(column,nr_values,unique_vals))\r\n",
        "  else:\r\n",
        "   print('The number of value of feature:{}/{}'.format(column,nr_values))"
      ],
      "execution_count": null,
      "outputs": [
        {
          "output_type": "stream",
          "text": [
            "The number of value of feature:id/21436\n",
            "The number of value of feature:date/372\n",
            "The number of value of feature:price/4028\n",
            "The number of value of feature:bedrooms/13\n",
            "The number of value of feature:bathrooms/30\n",
            "The number of value of feature:sqft_living/1038\n",
            "The number of value of feature:sqft_lot/9782\n",
            "The number of value of feature:floors/6/[1.  1.5 2.  2.5 3.  3.5]\n",
            "The number of value of feature:waterfront/2/[0 1]\n",
            "The number of value of feature:view/5/[0 1 2 3 4]\n",
            "The number of value of feature:condition/5/[1 2 3 4 5]\n",
            "The number of value of feature:grade/12\n",
            "The number of value of feature:sqft_above/946\n",
            "The number of value of feature:sqft_basement/306\n",
            "The number of value of feature:yr_built/116\n",
            "The number of value of feature:yr_renovated/70\n",
            "The number of value of feature:zipcode/70\n",
            "The number of value of feature:lat/5034\n",
            "The number of value of feature:long/752\n",
            "The number of value of feature:sqft_living15/777\n",
            "The number of value of feature:sqft_lot15/8689\n"
          ],
          "name": "stdout"
        }
      ]
    },
    {
      "cell_type": "markdown",
      "metadata": {
        "id": "8fpDbvckoqXQ"
      },
      "source": [
        "***visualising a subset of our data***"
      ]
    },
    {
      "cell_type": "code",
      "metadata": {
        "id": "Q7g4WIBqkFAa"
      },
      "source": [
        "pairplot1=True\r\n",
        "if pairplot1==True:\r\n",
        " g=sns.pairplot(data)"
      ],
      "execution_count": null,
      "outputs": []
    },
    {
      "cell_type": "markdown",
      "metadata": {
        "id": "dFDBKpDEnIBd"
      },
      "source": [
        "***visualising a subset of our data/important feature***"
      ]
    },
    {
      "cell_type": "code",
      "metadata": {
        "id": "GY_qw7lJo0xh",
        "colab": {
          "base_uri": "https://localhost:8080/"
        },
        "outputId": "b59a9339-904a-4228-9042-2630ad802adc"
      },
      "source": [
        "data.columns"
      ],
      "execution_count": null,
      "outputs": [
        {
          "output_type": "execute_result",
          "data": {
            "text/plain": [
              "Index(['id', 'date', 'price', 'bedrooms', 'bathrooms', 'sqft_living',\n",
              "       'sqft_lot', 'floors', 'waterfront', 'view', 'condition', 'grade',\n",
              "       'sqft_above', 'sqft_basement', 'yr_built', 'yr_renovated', 'zipcode',\n",
              "       'lat', 'long', 'sqft_living15', 'sqft_lot15'],\n",
              "      dtype='object')"
            ]
          },
          "metadata": {
            "tags": []
          },
          "execution_count": 10
        }
      ]
    },
    {
      "cell_type": "code",
      "metadata": {
        "id": "FQOfI9Myq6O-"
      },
      "source": [
        "pairplot2=True\r\n",
        "if pairplot2==True:\r\n",
        "  g=sns.pairplot(data[['price','sqft_living','condition']])"
      ],
      "execution_count": null,
      "outputs": []
    },
    {
      "cell_type": "code",
      "metadata": {
        "id": "rWazjUe2vs0K"
      },
      "source": [
        "pairplot3=True\r\n",
        "if pairplot3==True:\r\n",
        "  g=sns.pairplot(data[['price','sqft_living','condition']],hue='condition')"
      ],
      "execution_count": null,
      "outputs": []
    },
    {
      "cell_type": "code",
      "metadata": {
        "id": "66TJBzOf_vRh"
      },
      "source": [
        "lmplot1=True\r\n",
        "if lmplot1==True:\r\n",
        "  g=sns.lmplot(x='price',y='sqft_living',data=data)"
      ],
      "execution_count": null,
      "outputs": []
    },
    {
      "cell_type": "code",
      "metadata": {
        "id": "Lcva6AJVrlJo"
      },
      "source": [
        "lmplot2=False\r\n",
        "if lmplot2==True:\r\n",
        "  g=sns.lmplot(x='price',y='sqft_living',data=data, col='floors')"
      ],
      "execution_count": null,
      "outputs": []
    },
    {
      "cell_type": "code",
      "metadata": {
        "id": "0-Lu9ARVzoHJ"
      },
      "source": [
        "lmplot3=False\r\n",
        "if lmplot3==True:\r\n",
        "  g=sns.lmplot(x='price',y='sqft_living',data=data, col='floors',col_wrap=3,height=5,scatter_kws={'color':'green'})"
      ],
      "execution_count": null,
      "outputs": []
    },
    {
      "cell_type": "code",
      "metadata": {
        "id": "nPKZRfnI0c2f"
      },
      "source": [
        "lmplot=True\r\n",
        "if lmplot==True:\r\n",
        " g=sns.lmplot(x='price',y='sqft_living',data=data, col='floors',col_wrap=3,height=5,scatter_kws={'color':'green'},ci=False)"
      ],
      "execution_count": null,
      "outputs": []
    },
    {
      "cell_type": "code",
      "metadata": {
        "id": "EfDTVuGj_krP"
      },
      "source": [
        "boxplot=True\r\n",
        "if boxplot==True:\r\n",
        " pal=['green','red']\r\n",
        " g=sns.boxplot(x='price',y='sqft_living',data=data,hue='waterfront',palette=pal)"
      ],
      "execution_count": null,
      "outputs": []
    },
    {
      "cell_type": "markdown",
      "metadata": {
        "id": "RQUFL2OZGiQk"
      },
      "source": [
        "***cleaning data***"
      ]
    },
    {
      "cell_type": "code",
      "metadata": {
        "id": "Sajkn9kvwkQC",
        "colab": {
          "base_uri": "https://localhost:8080/"
        },
        "outputId": "d9339060-1840-4e19-d2f2-0ef952f46943"
      },
      "source": [
        "data.shape[0]"
      ],
      "execution_count": null,
      "outputs": [
        {
          "output_type": "execute_result",
          "data": {
            "text/plain": [
              "21613"
            ]
          },
          "metadata": {
            "tags": []
          },
          "execution_count": 18
        }
      ]
    },
    {
      "cell_type": "code",
      "metadata": {
        "id": "qLHdalB7CFJg",
        "colab": {
          "base_uri": "https://localhost:8080/",
          "height": 304
        },
        "outputId": "b377cad0-fa68-4f1b-daf1-cf5bc5dbc2bb"
      },
      "source": [
        "data[data['floors']>3]"
      ],
      "execution_count": null,
      "outputs": [
        {
          "output_type": "execute_result",
          "data": {
            "text/html": [
              "<div>\n",
              "<style scoped>\n",
              "    .dataframe tbody tr th:only-of-type {\n",
              "        vertical-align: middle;\n",
              "    }\n",
              "\n",
              "    .dataframe tbody tr th {\n",
              "        vertical-align: top;\n",
              "    }\n",
              "\n",
              "    .dataframe thead th {\n",
              "        text-align: right;\n",
              "    }\n",
              "</style>\n",
              "<table border=\"1\" class=\"dataframe\">\n",
              "  <thead>\n",
              "    <tr style=\"text-align: right;\">\n",
              "      <th></th>\n",
              "      <th>id</th>\n",
              "      <th>date</th>\n",
              "      <th>price</th>\n",
              "      <th>bedrooms</th>\n",
              "      <th>bathrooms</th>\n",
              "      <th>sqft_living</th>\n",
              "      <th>sqft_lot</th>\n",
              "      <th>floors</th>\n",
              "      <th>waterfront</th>\n",
              "      <th>view</th>\n",
              "      <th>condition</th>\n",
              "      <th>grade</th>\n",
              "      <th>sqft_above</th>\n",
              "      <th>sqft_basement</th>\n",
              "      <th>yr_built</th>\n",
              "      <th>yr_renovated</th>\n",
              "      <th>zipcode</th>\n",
              "      <th>lat</th>\n",
              "      <th>long</th>\n",
              "      <th>sqft_living15</th>\n",
              "      <th>sqft_lot15</th>\n",
              "    </tr>\n",
              "  </thead>\n",
              "  <tbody>\n",
              "    <tr>\n",
              "      <th>875</th>\n",
              "      <td>6306400140</td>\n",
              "      <td>20140612T000000</td>\n",
              "      <td>1095000.0</td>\n",
              "      <td>0</td>\n",
              "      <td>0.00</td>\n",
              "      <td>3064</td>\n",
              "      <td>4764</td>\n",
              "      <td>3.5</td>\n",
              "      <td>0</td>\n",
              "      <td>2</td>\n",
              "      <td>3</td>\n",
              "      <td>7</td>\n",
              "      <td>3064</td>\n",
              "      <td>0</td>\n",
              "      <td>1990</td>\n",
              "      <td>0</td>\n",
              "      <td>98102</td>\n",
              "      <td>47.6362</td>\n",
              "      <td>-122.322</td>\n",
              "      <td>2360</td>\n",
              "      <td>4000</td>\n",
              "    </tr>\n",
              "    <tr>\n",
              "      <th>10077</th>\n",
              "      <td>1972202010</td>\n",
              "      <td>20140801T000000</td>\n",
              "      <td>435000.0</td>\n",
              "      <td>3</td>\n",
              "      <td>3.00</td>\n",
              "      <td>1440</td>\n",
              "      <td>1350</td>\n",
              "      <td>3.5</td>\n",
              "      <td>0</td>\n",
              "      <td>2</td>\n",
              "      <td>3</td>\n",
              "      <td>8</td>\n",
              "      <td>1440</td>\n",
              "      <td>0</td>\n",
              "      <td>2005</td>\n",
              "      <td>0</td>\n",
              "      <td>98103</td>\n",
              "      <td>47.6525</td>\n",
              "      <td>-122.345</td>\n",
              "      <td>1440</td>\n",
              "      <td>1350</td>\n",
              "    </tr>\n",
              "    <tr>\n",
              "      <th>11594</th>\n",
              "      <td>3180100023</td>\n",
              "      <td>20150130T000000</td>\n",
              "      <td>544000.0</td>\n",
              "      <td>3</td>\n",
              "      <td>2.50</td>\n",
              "      <td>1760</td>\n",
              "      <td>1755</td>\n",
              "      <td>3.5</td>\n",
              "      <td>0</td>\n",
              "      <td>0</td>\n",
              "      <td>3</td>\n",
              "      <td>8</td>\n",
              "      <td>1760</td>\n",
              "      <td>0</td>\n",
              "      <td>1998</td>\n",
              "      <td>0</td>\n",
              "      <td>98105</td>\n",
              "      <td>47.6688</td>\n",
              "      <td>-122.279</td>\n",
              "      <td>1700</td>\n",
              "      <td>1721</td>\n",
              "    </tr>\n",
              "    <tr>\n",
              "      <th>14885</th>\n",
              "      <td>8673400177</td>\n",
              "      <td>20150402T000000</td>\n",
              "      <td>525000.0</td>\n",
              "      <td>3</td>\n",
              "      <td>3.00</td>\n",
              "      <td>1730</td>\n",
              "      <td>1074</td>\n",
              "      <td>3.5</td>\n",
              "      <td>0</td>\n",
              "      <td>0</td>\n",
              "      <td>3</td>\n",
              "      <td>8</td>\n",
              "      <td>1730</td>\n",
              "      <td>0</td>\n",
              "      <td>2006</td>\n",
              "      <td>0</td>\n",
              "      <td>98107</td>\n",
              "      <td>47.6692</td>\n",
              "      <td>-122.392</td>\n",
              "      <td>1370</td>\n",
              "      <td>1185</td>\n",
              "    </tr>\n",
              "    <tr>\n",
              "      <th>15424</th>\n",
              "      <td>1702900664</td>\n",
              "      <td>20150416T000000</td>\n",
              "      <td>479000.0</td>\n",
              "      <td>2</td>\n",
              "      <td>2.50</td>\n",
              "      <td>1730</td>\n",
              "      <td>1037</td>\n",
              "      <td>3.5</td>\n",
              "      <td>0</td>\n",
              "      <td>0</td>\n",
              "      <td>3</td>\n",
              "      <td>8</td>\n",
              "      <td>1730</td>\n",
              "      <td>0</td>\n",
              "      <td>2008</td>\n",
              "      <td>0</td>\n",
              "      <td>98118</td>\n",
              "      <td>47.5594</td>\n",
              "      <td>-122.285</td>\n",
              "      <td>1280</td>\n",
              "      <td>1026</td>\n",
              "    </tr>\n",
              "    <tr>\n",
              "      <th>18477</th>\n",
              "      <td>1346300150</td>\n",
              "      <td>20141020T000000</td>\n",
              "      <td>3300000.0</td>\n",
              "      <td>8</td>\n",
              "      <td>4.00</td>\n",
              "      <td>7710</td>\n",
              "      <td>11750</td>\n",
              "      <td>3.5</td>\n",
              "      <td>0</td>\n",
              "      <td>0</td>\n",
              "      <td>5</td>\n",
              "      <td>12</td>\n",
              "      <td>6090</td>\n",
              "      <td>1620</td>\n",
              "      <td>1904</td>\n",
              "      <td>0</td>\n",
              "      <td>98112</td>\n",
              "      <td>47.6263</td>\n",
              "      <td>-122.314</td>\n",
              "      <td>4210</td>\n",
              "      <td>8325</td>\n",
              "    </tr>\n",
              "    <tr>\n",
              "      <th>20308</th>\n",
              "      <td>1972200426</td>\n",
              "      <td>20140918T000000</td>\n",
              "      <td>525000.0</td>\n",
              "      <td>2</td>\n",
              "      <td>2.75</td>\n",
              "      <td>1310</td>\n",
              "      <td>1268</td>\n",
              "      <td>3.5</td>\n",
              "      <td>0</td>\n",
              "      <td>0</td>\n",
              "      <td>3</td>\n",
              "      <td>8</td>\n",
              "      <td>1310</td>\n",
              "      <td>0</td>\n",
              "      <td>2007</td>\n",
              "      <td>0</td>\n",
              "      <td>98103</td>\n",
              "      <td>47.6534</td>\n",
              "      <td>-122.355</td>\n",
              "      <td>1350</td>\n",
              "      <td>1288</td>\n",
              "    </tr>\n",
              "    <tr>\n",
              "      <th>20772</th>\n",
              "      <td>1972200428</td>\n",
              "      <td>20140625T000000</td>\n",
              "      <td>563500.0</td>\n",
              "      <td>3</td>\n",
              "      <td>2.50</td>\n",
              "      <td>1400</td>\n",
              "      <td>1312</td>\n",
              "      <td>3.5</td>\n",
              "      <td>0</td>\n",
              "      <td>0</td>\n",
              "      <td>3</td>\n",
              "      <td>8</td>\n",
              "      <td>1400</td>\n",
              "      <td>0</td>\n",
              "      <td>2007</td>\n",
              "      <td>0</td>\n",
              "      <td>98103</td>\n",
              "      <td>47.6534</td>\n",
              "      <td>-122.355</td>\n",
              "      <td>1350</td>\n",
              "      <td>1312</td>\n",
              "    </tr>\n",
              "  </tbody>\n",
              "</table>\n",
              "</div>"
            ],
            "text/plain": [
              "               id             date  ...  sqft_living15  sqft_lot15\n",
              "875    6306400140  20140612T000000  ...           2360        4000\n",
              "10077  1972202010  20140801T000000  ...           1440        1350\n",
              "11594  3180100023  20150130T000000  ...           1700        1721\n",
              "14885  8673400177  20150402T000000  ...           1370        1185\n",
              "15424  1702900664  20150416T000000  ...           1280        1026\n",
              "18477  1346300150  20141020T000000  ...           4210        8325\n",
              "20308  1972200426  20140918T000000  ...           1350        1288\n",
              "20772  1972200428  20140625T000000  ...           1350        1312\n",
              "\n",
              "[8 rows x 21 columns]"
            ]
          },
          "metadata": {
            "tags": []
          },
          "execution_count": 19
        }
      ]
    },
    {
      "cell_type": "code",
      "metadata": {
        "id": "q4dhHbTumril",
        "colab": {
          "base_uri": "https://localhost:8080/"
        },
        "outputId": "0bf2eed7-3bea-4cb0-a1b7-9a02a3de37fd"
      },
      "source": [
        "data1=data[data['floors']<=3]\r\n",
        "data.shape[0]"
      ],
      "execution_count": null,
      "outputs": [
        {
          "output_type": "execute_result",
          "data": {
            "text/plain": [
              "21613"
            ]
          },
          "metadata": {
            "tags": []
          },
          "execution_count": 20
        }
      ]
    },
    {
      "cell_type": "code",
      "metadata": {
        "id": "h81lG2_CpzT4",
        "colab": {
          "base_uri": "https://localhost:8080/",
          "height": 304
        },
        "outputId": "241648db-7017-4167-f294-f9198af0f201"
      },
      "source": [
        "data[data['floors']>3]"
      ],
      "execution_count": null,
      "outputs": [
        {
          "output_type": "execute_result",
          "data": {
            "text/html": [
              "<div>\n",
              "<style scoped>\n",
              "    .dataframe tbody tr th:only-of-type {\n",
              "        vertical-align: middle;\n",
              "    }\n",
              "\n",
              "    .dataframe tbody tr th {\n",
              "        vertical-align: top;\n",
              "    }\n",
              "\n",
              "    .dataframe thead th {\n",
              "        text-align: right;\n",
              "    }\n",
              "</style>\n",
              "<table border=\"1\" class=\"dataframe\">\n",
              "  <thead>\n",
              "    <tr style=\"text-align: right;\">\n",
              "      <th></th>\n",
              "      <th>id</th>\n",
              "      <th>date</th>\n",
              "      <th>price</th>\n",
              "      <th>bedrooms</th>\n",
              "      <th>bathrooms</th>\n",
              "      <th>sqft_living</th>\n",
              "      <th>sqft_lot</th>\n",
              "      <th>floors</th>\n",
              "      <th>waterfront</th>\n",
              "      <th>view</th>\n",
              "      <th>condition</th>\n",
              "      <th>grade</th>\n",
              "      <th>sqft_above</th>\n",
              "      <th>sqft_basement</th>\n",
              "      <th>yr_built</th>\n",
              "      <th>yr_renovated</th>\n",
              "      <th>zipcode</th>\n",
              "      <th>lat</th>\n",
              "      <th>long</th>\n",
              "      <th>sqft_living15</th>\n",
              "      <th>sqft_lot15</th>\n",
              "    </tr>\n",
              "  </thead>\n",
              "  <tbody>\n",
              "    <tr>\n",
              "      <th>875</th>\n",
              "      <td>6306400140</td>\n",
              "      <td>20140612T000000</td>\n",
              "      <td>1095000.0</td>\n",
              "      <td>0</td>\n",
              "      <td>0.00</td>\n",
              "      <td>3064</td>\n",
              "      <td>4764</td>\n",
              "      <td>3.5</td>\n",
              "      <td>0</td>\n",
              "      <td>2</td>\n",
              "      <td>3</td>\n",
              "      <td>7</td>\n",
              "      <td>3064</td>\n",
              "      <td>0</td>\n",
              "      <td>1990</td>\n",
              "      <td>0</td>\n",
              "      <td>98102</td>\n",
              "      <td>47.6362</td>\n",
              "      <td>-122.322</td>\n",
              "      <td>2360</td>\n",
              "      <td>4000</td>\n",
              "    </tr>\n",
              "    <tr>\n",
              "      <th>10077</th>\n",
              "      <td>1972202010</td>\n",
              "      <td>20140801T000000</td>\n",
              "      <td>435000.0</td>\n",
              "      <td>3</td>\n",
              "      <td>3.00</td>\n",
              "      <td>1440</td>\n",
              "      <td>1350</td>\n",
              "      <td>3.5</td>\n",
              "      <td>0</td>\n",
              "      <td>2</td>\n",
              "      <td>3</td>\n",
              "      <td>8</td>\n",
              "      <td>1440</td>\n",
              "      <td>0</td>\n",
              "      <td>2005</td>\n",
              "      <td>0</td>\n",
              "      <td>98103</td>\n",
              "      <td>47.6525</td>\n",
              "      <td>-122.345</td>\n",
              "      <td>1440</td>\n",
              "      <td>1350</td>\n",
              "    </tr>\n",
              "    <tr>\n",
              "      <th>11594</th>\n",
              "      <td>3180100023</td>\n",
              "      <td>20150130T000000</td>\n",
              "      <td>544000.0</td>\n",
              "      <td>3</td>\n",
              "      <td>2.50</td>\n",
              "      <td>1760</td>\n",
              "      <td>1755</td>\n",
              "      <td>3.5</td>\n",
              "      <td>0</td>\n",
              "      <td>0</td>\n",
              "      <td>3</td>\n",
              "      <td>8</td>\n",
              "      <td>1760</td>\n",
              "      <td>0</td>\n",
              "      <td>1998</td>\n",
              "      <td>0</td>\n",
              "      <td>98105</td>\n",
              "      <td>47.6688</td>\n",
              "      <td>-122.279</td>\n",
              "      <td>1700</td>\n",
              "      <td>1721</td>\n",
              "    </tr>\n",
              "    <tr>\n",
              "      <th>14885</th>\n",
              "      <td>8673400177</td>\n",
              "      <td>20150402T000000</td>\n",
              "      <td>525000.0</td>\n",
              "      <td>3</td>\n",
              "      <td>3.00</td>\n",
              "      <td>1730</td>\n",
              "      <td>1074</td>\n",
              "      <td>3.5</td>\n",
              "      <td>0</td>\n",
              "      <td>0</td>\n",
              "      <td>3</td>\n",
              "      <td>8</td>\n",
              "      <td>1730</td>\n",
              "      <td>0</td>\n",
              "      <td>2006</td>\n",
              "      <td>0</td>\n",
              "      <td>98107</td>\n",
              "      <td>47.6692</td>\n",
              "      <td>-122.392</td>\n",
              "      <td>1370</td>\n",
              "      <td>1185</td>\n",
              "    </tr>\n",
              "    <tr>\n",
              "      <th>15424</th>\n",
              "      <td>1702900664</td>\n",
              "      <td>20150416T000000</td>\n",
              "      <td>479000.0</td>\n",
              "      <td>2</td>\n",
              "      <td>2.50</td>\n",
              "      <td>1730</td>\n",
              "      <td>1037</td>\n",
              "      <td>3.5</td>\n",
              "      <td>0</td>\n",
              "      <td>0</td>\n",
              "      <td>3</td>\n",
              "      <td>8</td>\n",
              "      <td>1730</td>\n",
              "      <td>0</td>\n",
              "      <td>2008</td>\n",
              "      <td>0</td>\n",
              "      <td>98118</td>\n",
              "      <td>47.5594</td>\n",
              "      <td>-122.285</td>\n",
              "      <td>1280</td>\n",
              "      <td>1026</td>\n",
              "    </tr>\n",
              "    <tr>\n",
              "      <th>18477</th>\n",
              "      <td>1346300150</td>\n",
              "      <td>20141020T000000</td>\n",
              "      <td>3300000.0</td>\n",
              "      <td>8</td>\n",
              "      <td>4.00</td>\n",
              "      <td>7710</td>\n",
              "      <td>11750</td>\n",
              "      <td>3.5</td>\n",
              "      <td>0</td>\n",
              "      <td>0</td>\n",
              "      <td>5</td>\n",
              "      <td>12</td>\n",
              "      <td>6090</td>\n",
              "      <td>1620</td>\n",
              "      <td>1904</td>\n",
              "      <td>0</td>\n",
              "      <td>98112</td>\n",
              "      <td>47.6263</td>\n",
              "      <td>-122.314</td>\n",
              "      <td>4210</td>\n",
              "      <td>8325</td>\n",
              "    </tr>\n",
              "    <tr>\n",
              "      <th>20308</th>\n",
              "      <td>1972200426</td>\n",
              "      <td>20140918T000000</td>\n",
              "      <td>525000.0</td>\n",
              "      <td>2</td>\n",
              "      <td>2.75</td>\n",
              "      <td>1310</td>\n",
              "      <td>1268</td>\n",
              "      <td>3.5</td>\n",
              "      <td>0</td>\n",
              "      <td>0</td>\n",
              "      <td>3</td>\n",
              "      <td>8</td>\n",
              "      <td>1310</td>\n",
              "      <td>0</td>\n",
              "      <td>2007</td>\n",
              "      <td>0</td>\n",
              "      <td>98103</td>\n",
              "      <td>47.6534</td>\n",
              "      <td>-122.355</td>\n",
              "      <td>1350</td>\n",
              "      <td>1288</td>\n",
              "    </tr>\n",
              "    <tr>\n",
              "      <th>20772</th>\n",
              "      <td>1972200428</td>\n",
              "      <td>20140625T000000</td>\n",
              "      <td>563500.0</td>\n",
              "      <td>3</td>\n",
              "      <td>2.50</td>\n",
              "      <td>1400</td>\n",
              "      <td>1312</td>\n",
              "      <td>3.5</td>\n",
              "      <td>0</td>\n",
              "      <td>0</td>\n",
              "      <td>3</td>\n",
              "      <td>8</td>\n",
              "      <td>1400</td>\n",
              "      <td>0</td>\n",
              "      <td>2007</td>\n",
              "      <td>0</td>\n",
              "      <td>98103</td>\n",
              "      <td>47.6534</td>\n",
              "      <td>-122.355</td>\n",
              "      <td>1350</td>\n",
              "      <td>1312</td>\n",
              "    </tr>\n",
              "  </tbody>\n",
              "</table>\n",
              "</div>"
            ],
            "text/plain": [
              "               id             date  ...  sqft_living15  sqft_lot15\n",
              "875    6306400140  20140612T000000  ...           2360        4000\n",
              "10077  1972202010  20140801T000000  ...           1440        1350\n",
              "11594  3180100023  20150130T000000  ...           1700        1721\n",
              "14885  8673400177  20150402T000000  ...           1370        1185\n",
              "15424  1702900664  20150416T000000  ...           1280        1026\n",
              "18477  1346300150  20141020T000000  ...           4210        8325\n",
              "20308  1972200426  20140918T000000  ...           1350        1288\n",
              "20772  1972200428  20140625T000000  ...           1350        1312\n",
              "\n",
              "[8 rows x 21 columns]"
            ]
          },
          "metadata": {
            "tags": []
          },
          "execution_count": 21
        }
      ]
    },
    {
      "cell_type": "markdown",
      "metadata": {
        "id": "ZLTbBIp3ysD6"
      },
      "source": [
        "***selecting usefull data only***"
      ]
    },
    {
      "cell_type": "code",
      "metadata": {
        "id": "zJlMC9Yyp3ev",
        "colab": {
          "base_uri": "https://localhost:8080/"
        },
        "outputId": "09a7fe49-a2e0-4bd6-f21d-4b8fea283079"
      },
      "source": [
        "data.columns"
      ],
      "execution_count": null,
      "outputs": [
        {
          "output_type": "execute_result",
          "data": {
            "text/plain": [
              "Index(['id', 'date', 'price', 'bedrooms', 'bathrooms', 'sqft_living',\n",
              "       'sqft_lot', 'floors', 'waterfront', 'view', 'condition', 'grade',\n",
              "       'sqft_above', 'sqft_basement', 'yr_built', 'yr_renovated', 'zipcode',\n",
              "       'lat', 'long', 'sqft_living15', 'sqft_lot15'],\n",
              "      dtype='object')"
            ]
          },
          "metadata": {
            "tags": []
          },
          "execution_count": 22
        }
      ]
    },
    {
      "cell_type": "code",
      "metadata": {
        "id": "r8bY2os7y0fw"
      },
      "source": [
        "data=data[['price','bedrooms','sqft_living','floors','condition']]"
      ],
      "execution_count": null,
      "outputs": []
    },
    {
      "cell_type": "code",
      "metadata": {
        "id": "A8FQNG9zzeAp",
        "colab": {
          "base_uri": "https://localhost:8080/",
          "height": 195
        },
        "outputId": "a2c4d075-0015-4505-9468-33f1e82ad237"
      },
      "source": [
        "data.head()"
      ],
      "execution_count": null,
      "outputs": [
        {
          "output_type": "execute_result",
          "data": {
            "text/html": [
              "<div>\n",
              "<style scoped>\n",
              "    .dataframe tbody tr th:only-of-type {\n",
              "        vertical-align: middle;\n",
              "    }\n",
              "\n",
              "    .dataframe tbody tr th {\n",
              "        vertical-align: top;\n",
              "    }\n",
              "\n",
              "    .dataframe thead th {\n",
              "        text-align: right;\n",
              "    }\n",
              "</style>\n",
              "<table border=\"1\" class=\"dataframe\">\n",
              "  <thead>\n",
              "    <tr style=\"text-align: right;\">\n",
              "      <th></th>\n",
              "      <th>price</th>\n",
              "      <th>bedrooms</th>\n",
              "      <th>sqft_living</th>\n",
              "      <th>floors</th>\n",
              "      <th>condition</th>\n",
              "    </tr>\n",
              "  </thead>\n",
              "  <tbody>\n",
              "    <tr>\n",
              "      <th>0</th>\n",
              "      <td>221900.0</td>\n",
              "      <td>3</td>\n",
              "      <td>1180</td>\n",
              "      <td>1.0</td>\n",
              "      <td>3</td>\n",
              "    </tr>\n",
              "    <tr>\n",
              "      <th>1</th>\n",
              "      <td>538000.0</td>\n",
              "      <td>3</td>\n",
              "      <td>2570</td>\n",
              "      <td>2.0</td>\n",
              "      <td>3</td>\n",
              "    </tr>\n",
              "    <tr>\n",
              "      <th>2</th>\n",
              "      <td>180000.0</td>\n",
              "      <td>2</td>\n",
              "      <td>770</td>\n",
              "      <td>1.0</td>\n",
              "      <td>3</td>\n",
              "    </tr>\n",
              "    <tr>\n",
              "      <th>3</th>\n",
              "      <td>604000.0</td>\n",
              "      <td>4</td>\n",
              "      <td>1960</td>\n",
              "      <td>1.0</td>\n",
              "      <td>5</td>\n",
              "    </tr>\n",
              "    <tr>\n",
              "      <th>4</th>\n",
              "      <td>510000.0</td>\n",
              "      <td>3</td>\n",
              "      <td>1680</td>\n",
              "      <td>1.0</td>\n",
              "      <td>3</td>\n",
              "    </tr>\n",
              "  </tbody>\n",
              "</table>\n",
              "</div>"
            ],
            "text/plain": [
              "      price  bedrooms  sqft_living  floors  condition\n",
              "0  221900.0         3         1180     1.0          3\n",
              "1  538000.0         3         2570     2.0          3\n",
              "2  180000.0         2          770     1.0          3\n",
              "3  604000.0         4         1960     1.0          5\n",
              "4  510000.0         3         1680     1.0          3"
            ]
          },
          "metadata": {
            "tags": []
          },
          "execution_count": 24
        }
      ]
    },
    {
      "cell_type": "markdown",
      "metadata": {
        "id": "aXICxM2m2w2U"
      },
      "source": [
        "***making categorical variable into numeric representation***"
      ]
    },
    {
      "cell_type": "code",
      "metadata": {
        "id": "g9fpUPDv4qGn"
      },
      "source": [
        "dummies=False\r\n",
        "if dummies==True:\r\n",
        " data=pd.get_dummies(data,columns=['date'])"
      ],
      "execution_count": null,
      "outputs": []
    },
    {
      "cell_type": "code",
      "metadata": {
        "id": "A_RBwyeZ57XI",
        "colab": {
          "base_uri": "https://localhost:8080/",
          "height": 195
        },
        "outputId": "d46a2196-0aba-4c9f-b212-142da81717ac"
      },
      "source": [
        "data.head()"
      ],
      "execution_count": null,
      "outputs": [
        {
          "output_type": "execute_result",
          "data": {
            "text/html": [
              "<div>\n",
              "<style scoped>\n",
              "    .dataframe tbody tr th:only-of-type {\n",
              "        vertical-align: middle;\n",
              "    }\n",
              "\n",
              "    .dataframe tbody tr th {\n",
              "        vertical-align: top;\n",
              "    }\n",
              "\n",
              "    .dataframe thead th {\n",
              "        text-align: right;\n",
              "    }\n",
              "</style>\n",
              "<table border=\"1\" class=\"dataframe\">\n",
              "  <thead>\n",
              "    <tr style=\"text-align: right;\">\n",
              "      <th></th>\n",
              "      <th>price</th>\n",
              "      <th>bedrooms</th>\n",
              "      <th>sqft_living</th>\n",
              "      <th>floors</th>\n",
              "      <th>condition</th>\n",
              "    </tr>\n",
              "  </thead>\n",
              "  <tbody>\n",
              "    <tr>\n",
              "      <th>0</th>\n",
              "      <td>221900.0</td>\n",
              "      <td>3</td>\n",
              "      <td>1180</td>\n",
              "      <td>1.0</td>\n",
              "      <td>3</td>\n",
              "    </tr>\n",
              "    <tr>\n",
              "      <th>1</th>\n",
              "      <td>538000.0</td>\n",
              "      <td>3</td>\n",
              "      <td>2570</td>\n",
              "      <td>2.0</td>\n",
              "      <td>3</td>\n",
              "    </tr>\n",
              "    <tr>\n",
              "      <th>2</th>\n",
              "      <td>180000.0</td>\n",
              "      <td>2</td>\n",
              "      <td>770</td>\n",
              "      <td>1.0</td>\n",
              "      <td>3</td>\n",
              "    </tr>\n",
              "    <tr>\n",
              "      <th>3</th>\n",
              "      <td>604000.0</td>\n",
              "      <td>4</td>\n",
              "      <td>1960</td>\n",
              "      <td>1.0</td>\n",
              "      <td>5</td>\n",
              "    </tr>\n",
              "    <tr>\n",
              "      <th>4</th>\n",
              "      <td>510000.0</td>\n",
              "      <td>3</td>\n",
              "      <td>1680</td>\n",
              "      <td>1.0</td>\n",
              "      <td>3</td>\n",
              "    </tr>\n",
              "  </tbody>\n",
              "</table>\n",
              "</div>"
            ],
            "text/plain": [
              "      price  bedrooms  sqft_living  floors  condition\n",
              "0  221900.0         3         1180     1.0          3\n",
              "1  538000.0         3         2570     2.0          3\n",
              "2  180000.0         2          770     1.0          3\n",
              "3  604000.0         4         1960     1.0          5\n",
              "4  510000.0         3         1680     1.0          3"
            ]
          },
          "metadata": {
            "tags": []
          },
          "execution_count": 26
        }
      ]
    },
    {
      "cell_type": "markdown",
      "metadata": {
        "id": "q67YUgs17rVN"
      },
      "source": [
        "***feature sealection***"
      ]
    },
    {
      "cell_type": "markdown",
      "metadata": {
        "id": "kE_4Nyi-mYMh"
      },
      "source": [
        "2 ways to help us select the important features are:\r\n",
        "\r\n",
        "1.   Correlation\r\n",
        "2.   Feature importance  \r\n",
        "\r\n"
      ]
    },
    {
      "cell_type": "markdown",
      "metadata": {
        "id": "kgzmFQgKm7aD"
      },
      "source": [
        "Correlation:\r\n"
      ]
    },
    {
      "cell_type": "code",
      "metadata": {
        "id": "wqZOkAYI7H1i",
        "colab": {
          "base_uri": "https://localhost:8080/"
        },
        "outputId": "50a6f961-4c43-45a4-a65d-55395b3ba5a1"
      },
      "source": [
        "data.columns\r\n"
      ],
      "execution_count": null,
      "outputs": [
        {
          "output_type": "execute_result",
          "data": {
            "text/plain": [
              "Index(['price', 'bedrooms', 'sqft_living', 'floors', 'condition'], dtype='object')"
            ]
          },
          "metadata": {
            "tags": []
          },
          "execution_count": 27
        }
      ]
    },
    {
      "cell_type": "code",
      "metadata": {
        "id": "G3GeIWvAoh2I"
      },
      "source": [
        "hm=data[['price', 'bedrooms', 'sqft_living', 'floors', 'condition',]].corr()"
      ],
      "execution_count": null,
      "outputs": []
    },
    {
      "cell_type": "code",
      "metadata": {
        "colab": {
          "base_uri": "https://localhost:8080/",
          "height": 270
        },
        "id": "KAaKIcNlpRxM",
        "outputId": "f1f0aa0a-442c-4af6-b404-fcc123c3453d"
      },
      "source": [
        "g=sns.heatmap(hm,annot=True,annot_kws={'size':10})"
      ],
      "execution_count": null,
      "outputs": [
        {
          "output_type": "display_data",
          "data": {
            "image/png": "[encoded data removed]",
            "text/plain": [
              "<Figure size 432x288 with 2 Axes>"
            ]
          },
          "metadata": {
            "tags": [],
            "needs_background": "light"
          }
        }
      ]
    },
    {
      "cell_type": "markdown",
      "metadata": {
        "id": "N5_7wmwwqJZF"
      },
      "source": [
        "Feature importance:\r\n",
        "1. split the data into X,Y\r\n",
        "2. Run a Tree-based estimators(i.e.decision Trees& random forests)\r\n",
        "3. Run Feature importance"
      ]
    },
    {
      "cell_type": "code",
      "metadata": {
        "colab": {
          "base_uri": "https://localhost:8080/"
        },
        "id": "ZaslV0w1qI8P",
        "outputId": "e17ee1b7-0b02-40b2-d2b7-b455ded1fac8"
      },
      "source": [
        "x=data.drop('price',axis=1).values\r\n",
        "y=data['price']\r\n",
        "dt=DecisionTreeClassifier(random_state=15,criterion='entropy',max_depth=10)\r\n",
        "dt.fit(x,y)"
      ],
      "execution_count": null,
      "outputs": [
        {
          "output_type": "execute_result",
          "data": {
            "text/plain": [
              "DecisionTreeClassifier(ccp_alpha=0.0, class_weight=None, criterion='entropy',\n",
              "                       max_depth=10, max_features=None, max_leaf_nodes=None,\n",
              "                       min_impurity_decrease=0.0, min_impurity_split=None,\n",
              "                       min_samples_leaf=1, min_samples_split=2,\n",
              "                       min_weight_fraction_leaf=0.0, presort='deprecated',\n",
              "                       random_state=15, splitter='best')"
            ]
          },
          "metadata": {
            "tags": []
          },
          "execution_count": 30
        }
      ]
    },
    {
      "cell_type": "markdown",
      "metadata": {
        "id": "cWEQTCR80K_U"
      },
      "source": [
        "***Running feature Importance***"
      ]
    },
    {
      "cell_type": "code",
      "metadata": {
        "colab": {
          "base_uri": "https://localhost:8080/"
        },
        "id": "CmAS6tEJpkoY",
        "outputId": "e8d26862-2331-4e41-d940-5e2327842423"
      },
      "source": [
        "for i,column in enumerate(data.drop('price',axis=1)):\r\n",
        "  print('The Feature importance for {} is:{:.3f}'.format(column, dt.feature_importances_[i]))"
      ],
      "execution_count": null,
      "outputs": [
        {
          "output_type": "stream",
          "text": [
            "The Feature importance for bedrooms is:0.065\n",
            "The Feature importance for sqft_living is:0.786\n",
            "The Feature importance for floors is:0.077\n",
            "The Feature importance for condition is:0.071\n"
          ],
          "name": "stdout"
        }
      ]
    },
    {
      "cell_type": "markdown",
      "metadata": {
        "id": "I0G-pPEljcB2"
      },
      "source": [
        "***Splitting the Raw Data - Hold-out validation***"
      ]
    },
    {
      "cell_type": "code",
      "metadata": {
        "colab": {
          "base_uri": "https://localhost:8080/"
        },
        "id": "MKznyQQYjdLi",
        "outputId": "5a541fe8-0bb7-4be2-efc5-7e0297fbe99b"
      },
      "source": [
        "X_train, X_test, y_train, y_test = train_test_split(x, y, train_size=0.80, test_size = 0.2, random_state=15)\r\n",
        "\r\n",
        "print(X_train.shape)\r\n",
        "print(X_test.shape)\r\n",
        "print(y_train.shape)\r\n",
        "print(y_test.shape)"
      ],
      "execution_count": null,
      "outputs": [
        {
          "output_type": "stream",
          "text": [
            "(17290, 4)\n",
            "(4323, 4)\n",
            "(17290,)\n",
            "(4323,)\n"
          ],
          "name": "stdout"
        }
      ]
    },
    {
      "cell_type": "markdown",
      "metadata": {
        "id": "ddZxZnMpA7dK"
      },
      "source": [
        "check if there is a relationship between the variables-\r\n",
        "Graphical Anscombe's_quartet "
      ]
    },
    {
      "cell_type": "code",
      "metadata": {
        "id": "dsyzXB5ekGaT",
        "colab": {
          "base_uri": "https://localhost:8080/"
        },
        "outputId": "ae1671d1-8721-48b1-deb3-5402ac505e17"
      },
      "source": [
        "features=data.columns\r\n",
        "features"
      ],
      "execution_count": null,
      "outputs": [
        {
          "output_type": "execute_result",
          "data": {
            "text/plain": [
              "Index(['price', 'bedrooms', 'sqft_living', 'floors', 'condition'], dtype='object')"
            ]
          },
          "metadata": {
            "tags": []
          },
          "execution_count": 34
        }
      ]
    },
    {
      "cell_type": "code",
      "metadata": {
        "id": "slbkW-qh4xvj",
        "colab": {
          "base_uri": "https://localhost:8080/",
          "height": 276
        },
        "outputId": "0338d9b6-0f00-4c8f-fa23-bf61cd0ff4af"
      },
      "source": [
        "fig, axs = plt.subplots(int(len(features)/2), 2)\r\n",
        "k=0\r\n",
        "for i in range(int(len(features)/2)):\r\n",
        "  axs[i, 0].scatter(data[features[k]], data['price'])\r\n",
        "  axs[i, 0].xlabel= features[k]\r\n",
        "  axs[i, 0].ylabel= 'price'\r\n",
        "  k+=1\r\n",
        "  axs[i, 1].scatter(data[features[k]], data['price'])\r\n",
        "  axs[i, 1].xlabel= features[k]\r\n",
        "  axs[i, 1].ylabel= 'price'\r\n",
        "  k+=1\r\n"
      ],
      "execution_count": null,
      "outputs": [
        {
          "output_type": "display_data",
          "data": {
            "image/png": "[encoded data removed]",
            "text/plain": [
              "<Figure size 432x288 with 4 Axes>"
            ]
          },
          "metadata": {
            "tags": [],
            "needs_background": "light"
          }
        }
      ]
    },
    {
      "cell_type": "markdown",
      "metadata": {
        "id": "L91KOX8gD8QV"
      },
      "source": [
        "***Running Linear Regression***"
      ]
    },
    {
      "cell_type": "code",
      "metadata": {
        "id": "XgPf_z5A6V1c"
      },
      "source": [
        "lm = LinearRegression(fit_intercept = True)\r\n",
        "lm.fit(X_train, y_train)\r\n",
        "\r\n",
        "y_pred = lm.predict(X_train)\r\n"
      ],
      "execution_count": null,
      "outputs": []
    },
    {
      "cell_type": "markdown",
      "metadata": {
        "id": "0b_z0EG4G5FR"
      },
      "source": [
        "***Evaluating the Model***"
      ]
    },
    {
      "cell_type": "code",
      "metadata": {
        "id": "xFl9O0KnEVeh",
        "colab": {
          "base_uri": "https://localhost:8080/"
        },
        "outputId": "152436ba-7f46-4ca0-cf73-db2fa29710fb"
      },
      "source": [
        "print('The Accuracy  on the training dataset is: ', lm.score(X_train, y_train) )\r\n",
        "print('The Accuracy n2  on the training dataset is: ',r2_score(y_train,y_pred) )   \r\n",
        "\r\n",
        "print(\"\")\r\n",
        "# Model Accuracy on testing dataset\r\n",
        "print('The Accuracy  on the testing dataset is: ', lm.score(X_test, y_test) )\r\n",
        "\r\n",
        "print(\"\")\r\n",
        "# The Root Mean Squared Error (RMSE)\r\n",
        "print('The RMSE  on the training dataset is: ',math.sqrt(mean_squared_error(y_train,y_pred)))\r\n",
        "print('The RMSE  on the testing dataset is: ',math.sqrt(mean_squared_error(y_test,lm.predict(X_test))))\r\n",
        "\r\n",
        "print(\"\")\r\n",
        "# The Mean Absolute Error (MAE)\r\n",
        "print('The MAE  on the training dataset is: ',mean_absolute_error(y_train,y_pred))\r\n",
        "print('The MAE  on the testing dataset is: ',mean_absolute_error(y_test,lm.predict(X_test)))\r\n",
        "\r\n",
        "\r\n",
        "print(\"\")\r\n",
        "# Coefficients\r\n",
        "print('Coefficients: ', lm.coef_ )\r\n",
        "\r\n",
        "print(\"\")\r\n",
        "# The Intercept\r\n",
        "print('Intercept: ', lm.intercept_)\r\n"
      ],
      "execution_count": null,
      "outputs": [
        {
          "output_type": "stream",
          "text": [
            "The Accuracy  on the training dataset is:  0.5152880513577883\n",
            "The Accuracy n2  on the training dataset is:  0.5152880513577883\n",
            "\n",
            "The Accuracy  on the testing dataset is:  0.5142851201673966\n",
            "\n",
            "The RMSE  on the training dataset is:  257052.54388415054\n",
            "The RMSE  on the testing dataset is:  249876.54111355759\n",
            "\n",
            "The MAE  on the training dataset is:  169050.31407493283\n",
            "The MAE  on the testing dataset is:  167328.19910738838\n",
            "\n",
            "Coefficients:  [-59276.12337873    313.73671995  23369.94699017  54057.73518803]\n",
            "\n",
            "Intercept:  -131623.2096629599\n"
          ],
          "name": "stdout"
        }
      ]
    },
    {
      "cell_type": "markdown",
      "metadata": {
        "id": "LOHX3v1zYNvV"
      },
      "source": [
        "***Plotting Actuals Vs Predicted***"
      ]
    },
    {
      "cell_type": "code",
      "metadata": {
        "id": "uytlMvLKYReD",
        "colab": {
          "base_uri": "https://localhost:8080/",
          "height": 638
        },
        "outputId": "ae60ca58-3a18-4d79-839d-3c3ae416ae74"
      },
      "source": [
        "plt.figure(figsize=(15,10))\r\n",
        "plt.scatter(y_train, y_pred, c='green')\r\n",
        "plt.plot([y_train.min(), y_train.max()], [y_train.min(), y_train.max()], 'k--', c='red', lw=3)\r\n",
        "plt.xlabel('Actuals')\r\n",
        "plt.ylabel('Predicted Values')\r\n",
        "plt.title('Actuals Vs Predicted Values')"
      ],
      "execution_count": null,
      "outputs": [
        {
          "output_type": "execute_result",
          "data": {
            "text/plain": [
              "Text(0.5, 1.0, 'Actuals Vs Predicted Values')"
            ]
          },
          "metadata": {
            "tags": []
          },
          "execution_count": 56
        },
        {
          "output_type": "display_data",
          "data": {
            "image/png": "[encoded data removed]",
            "text/plain": [
              "<Figure size 1080x720 with 1 Axes>"
            ]
          },
          "metadata": {
            "tags": [],
            "needs_background": "light"
          }
        }
      ]
    },
    {
      "cell_type": "code",
      "metadata": {
        "id": "ZDkzq_6QG60c"
      },
      "source": [
        ""
      ],
      "execution_count": null,
      "outputs": []
    }
  ]
}