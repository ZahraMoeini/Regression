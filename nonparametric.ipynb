{
  "nbformat": 4,
  "nbformat_minor": 0,
  "metadata": {
    "colab": {
      "name": "Untitled6.ipynb",
      "provenance": [],
      "authorship_tag": "ABX9TyMIj2+NVe4solb7wC7qhzIN",
      "include_colab_link": true
    },
    "kernelspec": {
      "name": "python3",
      "display_name": "Python 3"
    }
  },
  "cells": [
    {
      "cell_type": "markdown",
      "metadata": {
        "id": "view-in-github",
        "colab_type": "text"
      },
      "source": [
        "<a href=\"https://colab.research.google.com/github/ZahraMoeini/Regression/blob/main/nonparametric.ipynb\" target=\"_parent\"><img src=\"https://colab.research.google.com/assets/colab-badge.svg\" alt=\"Open In Colab\"/></a>"
      ]
    },
    {
      "cell_type": "code",
      "metadata": {
        "id": "m8jtG-qA5Ccs"
      },
      "source": [
        "import numpy as np\r\n",
        "import pandas as pd\r\n",
        "import matplotlib.pyplot as plt"
      ],
      "execution_count": null,
      "outputs": []
    },
    {
      "cell_type": "code",
      "metadata": {
        "id": "hOKujdzh5v8v"
      },
      "source": [
        "data=np.random.uniform(1,100,20)"
      ],
      "execution_count": 103,
      "outputs": []
    },
    {
      "cell_type": "code",
      "metadata": {
        "id": "Gm017X926FiD"
      },
      "source": [
        "k=10\r\n",
        "key = 35"
      ],
      "execution_count": 104,
      "outputs": []
    },
    {
      "cell_type": "code",
      "metadata": {
        "colab": {
          "base_uri": "https://localhost:8080/"
        },
        "id": "fKGIFoAG8Lww",
        "outputId": "b80b3c08-b547-43e0-c2ed-f4550780d367"
      },
      "source": [
        "neighbors=data[:k]\r\n",
        "dis=np.abs(data[:k]-key)\r\n",
        "dis"
      ],
      "execution_count": 105,
      "outputs": [
        {
          "output_type": "execute_result",
          "data": {
            "text/plain": [
              "array([1.54641775e+01, 1.27793767e+01, 2.33810709e+01, 1.84922321e+01,\n",
              "       2.96942285e+01, 3.62368531e-02, 3.43519902e+01, 6.31299357e+01,\n",
              "       1.96469206e+01, 4.61347285e+01])"
            ]
          },
          "metadata": {
            "tags": []
          },
          "execution_count": 105
        }
      ]
    },
    {
      "cell_type": "code",
      "metadata": {
        "colab": {
          "base_uri": "https://localhost:8080/"
        },
        "id": "2hteFQdeKjKn",
        "outputId": "5c825fe7-6d85-460f-d9b2-80776a740f71"
      },
      "source": [
        "sorted_index = dis.argsort()\r\n",
        "sorted_index"
      ],
      "execution_count": 106,
      "outputs": [
        {
          "output_type": "execute_result",
          "data": {
            "text/plain": [
              "array([5, 1, 0, 3, 8, 2, 4, 6, 9, 7])"
            ]
          },
          "metadata": {
            "tags": []
          },
          "execution_count": 106
        }
      ]
    },
    {
      "cell_type": "code",
      "metadata": {
        "colab": {
          "base_uri": "https://localhost:8080/"
        },
        "id": "fNqOy6BSKlCL",
        "outputId": "87912a43-fcb1-43eb-9133-2a4482d92c50"
      },
      "source": [
        "neighbors=neighbors[sorted_index]\r\n",
        "dis = dis[sorted_index]\r\n",
        "dis"
      ],
      "execution_count": 107,
      "outputs": [
        {
          "output_type": "execute_result",
          "data": {
            "text/plain": [
              "array([3.62368531e-02, 1.27793767e+01, 1.54641775e+01, 1.84922321e+01,\n",
              "       1.96469206e+01, 2.33810709e+01, 2.96942285e+01, 3.43519902e+01,\n",
              "       4.61347285e+01, 6.31299357e+01])"
            ]
          },
          "metadata": {
            "tags": []
          },
          "execution_count": 107
        }
      ]
    },
    {
      "cell_type": "code",
      "metadata": {
        "id": "c-DAYIzDKlFF"
      },
      "source": [
        "for i in range(k,len(data)):\r\n",
        "  if np.abs(data[k]-key) < dis[k-1]:\r\n",
        "    for j in range(k-2,0,-1):\r\n",
        "      if np.abs(data[k]-key)> dis[j]:\r\n",
        "        dis[j] = np.abs(data[k]-key)\r\n",
        "        neighbors[j]=data[k]\r\n",
        "        break\r\n",
        "      else:\r\n",
        "        dis[j+1]=dis[j]\r\n",
        "        neighbors[j+1]=neighbors[j]\r\n"
      ],
      "execution_count": 108,
      "outputs": []
    },
    {
      "cell_type": "code",
      "metadata": {
        "colab": {
          "base_uri": "https://localhost:8080/",
          "height": 592
        },
        "id": "1yfFtW5zKlJ3",
        "outputId": "8d1ee15e-54b9-4c6a-9b2c-0cc5ec0c2d58"
      },
      "source": [
        "fig = plt.figure(figsize=(15,10))\r\n",
        "plt.scatter(np.arange(len(data)),data)\r\n",
        "plt.plot(10,key,'or')\r\n",
        "plt.plot(np.arange(10-int(k/2),10+int(k/2)), neighbors,'og')\r\n",
        "\r\n",
        "plt.show()"
      ],
      "execution_count": 109,
      "outputs": [
        {
          "output_type": "display_data",
          "data": {
            "image/png": "[encoded data removed]",
            "text/plain": [
              "<Figure size 1080x720 with 1 Axes>"
            ]
          },
          "metadata": {
            "tags": [],
            "needs_background": "light"
          }
        }
      ]
    },
    {
      "cell_type": "code",
      "metadata": {
        "colab": {
          "base_uri": "https://localhost:8080/"
        },
        "id": "q9Xtlp93OHmS",
        "outputId": "f82c2079-dac1-48cd-fb8a-4fded69c387b"
      },
      "source": [
        "key"
      ],
      "execution_count": null,
      "outputs": [
        {
          "output_type": "execute_result",
          "data": {
            "text/plain": [
              "35"
            ]
          },
          "metadata": {
            "tags": []
          },
          "execution_count": 95
        }
      ]
    },
    {
      "cell_type": "code",
      "metadata": {
        "id": "59T3HlnNPw4M"
      },
      "source": [
        ""
      ],
      "execution_count": null,
      "outputs": []
    }
  ]
}