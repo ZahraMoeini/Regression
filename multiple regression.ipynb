{
  "nbformat": 4,
  "nbformat_minor": 0,
  "metadata": {
    "colab": {
      "name": "Copy of Untitled1.ipynb",
      "provenance": [],
      "authorship_tag": "ABX9TyMXVDYPDNaArRPdsVDbdWrW",
      "include_colab_link": true
    },
    "kernelspec": {
      "name": "python3",
      "display_name": "Python 3"
    }
  },
  "cells": [
    {
      "cell_type": "markdown",
      "metadata": {
        "id": "view-in-github",
        "colab_type": "text"
      },
      "source": [
        "<a href=\"https://colab.research.google.com/github/ZahraMoeini/Regression/blob/main/multiple%20regression.ipynb\" target=\"_parent\"><img src=\"https://colab.research.google.com/assets/colab-badge.svg\" alt=\"Open In Colab\"/></a>"
      ]
    },
    {
      "cell_type": "markdown",
      "metadata": {
        "id": "jBWlPIL84Fyq"
      },
      "source": [
        "#Y=H*W+epsilon"
      ]
    },
    {
      "cell_type": "code",
      "metadata": {
        "id": "_6UIbre4nfsT"
      },
      "source": [
        "import numpy as np\r\n",
        "import pandas as pd\r\n",
        "import matplotlib.pyplot as plt"
      ],
      "execution_count": 1,
      "outputs": []
    },
    {
      "cell_type": "code",
      "metadata": {
        "id": "08X0FjYhv1wk"
      },
      "source": [
        "link =  \"https://raw.githubusercontent.com/ZahraMoeini/Regression/main/Data/kc_house_data.csv\"\r\n"
      ],
      "execution_count": 2,
      "outputs": []
    },
    {
      "cell_type": "code",
      "metadata": {
        "colab": {
          "base_uri": "https://localhost:8080/",
          "height": 215
        },
        "id": "xw0qgfUsv2ag",
        "outputId": "7ee0df23-5b13-46b1-863d-92e320db861e"
      },
      "source": [
        "data = pd.read_csv(link, error_bad_lines=False )\r\n",
        "data.head()"
      ],
      "execution_count": 3,
      "outputs": [
        {
          "output_type": "execute_result",
          "data": {
            "text/html": [
              "<div>\n",
              "<style scoped>\n",
              "    .dataframe tbody tr th:only-of-type {\n",
              "        vertical-align: middle;\n",
              "    }\n",
              "\n",
              "    .dataframe tbody tr th {\n",
              "        vertical-align: top;\n",
              "    }\n",
              "\n",
              "    .dataframe thead th {\n",
              "        text-align: right;\n",
              "    }\n",
              "</style>\n",
              "<table border=\"1\" class=\"dataframe\">\n",
              "  <thead>\n",
              "    <tr style=\"text-align: right;\">\n",
              "      <th></th>\n",
              "      <th>id</th>\n",
              "      <th>date</th>\n",
              "      <th>price</th>\n",
              "      <th>bedrooms</th>\n",
              "      <th>bathrooms</th>\n",
              "      <th>sqft_living</th>\n",
              "      <th>sqft_lot</th>\n",
              "      <th>floors</th>\n",
              "      <th>waterfront</th>\n",
              "      <th>view</th>\n",
              "      <th>condition</th>\n",
              "      <th>grade</th>\n",
              "      <th>sqft_above</th>\n",
              "      <th>sqft_basement</th>\n",
              "      <th>yr_built</th>\n",
              "      <th>yr_renovated</th>\n",
              "      <th>zipcode</th>\n",
              "      <th>lat</th>\n",
              "      <th>long</th>\n",
              "      <th>sqft_living15</th>\n",
              "      <th>sqft_lot15</th>\n",
              "    </tr>\n",
              "  </thead>\n",
              "  <tbody>\n",
              "    <tr>\n",
              "      <th>0</th>\n",
              "      <td>7129300520</td>\n",
              "      <td>20141013T000000</td>\n",
              "      <td>221900.0</td>\n",
              "      <td>3</td>\n",
              "      <td>1.00</td>\n",
              "      <td>1180</td>\n",
              "      <td>5650</td>\n",
              "      <td>1.0</td>\n",
              "      <td>0</td>\n",
              "      <td>0</td>\n",
              "      <td>3</td>\n",
              "      <td>7</td>\n",
              "      <td>1180</td>\n",
              "      <td>0</td>\n",
              "      <td>1955</td>\n",
              "      <td>0</td>\n",
              "      <td>98178</td>\n",
              "      <td>47.5112</td>\n",
              "      <td>-122.257</td>\n",
              "      <td>1340</td>\n",
              "      <td>5650</td>\n",
              "    </tr>\n",
              "    <tr>\n",
              "      <th>1</th>\n",
              "      <td>6414100192</td>\n",
              "      <td>20141209T000000</td>\n",
              "      <td>538000.0</td>\n",
              "      <td>3</td>\n",
              "      <td>2.25</td>\n",
              "      <td>2570</td>\n",
              "      <td>7242</td>\n",
              "      <td>2.0</td>\n",
              "      <td>0</td>\n",
              "      <td>0</td>\n",
              "      <td>3</td>\n",
              "      <td>7</td>\n",
              "      <td>2170</td>\n",
              "      <td>400</td>\n",
              "      <td>1951</td>\n",
              "      <td>1991</td>\n",
              "      <td>98125</td>\n",
              "      <td>47.7210</td>\n",
              "      <td>-122.319</td>\n",
              "      <td>1690</td>\n",
              "      <td>7639</td>\n",
              "    </tr>\n",
              "    <tr>\n",
              "      <th>2</th>\n",
              "      <td>5631500400</td>\n",
              "      <td>20150225T000000</td>\n",
              "      <td>180000.0</td>\n",
              "      <td>2</td>\n",
              "      <td>1.00</td>\n",
              "      <td>770</td>\n",
              "      <td>10000</td>\n",
              "      <td>1.0</td>\n",
              "      <td>0</td>\n",
              "      <td>0</td>\n",
              "      <td>3</td>\n",
              "      <td>6</td>\n",
              "      <td>770</td>\n",
              "      <td>0</td>\n",
              "      <td>1933</td>\n",
              "      <td>0</td>\n",
              "      <td>98028</td>\n",
              "      <td>47.7379</td>\n",
              "      <td>-122.233</td>\n",
              "      <td>2720</td>\n",
              "      <td>8062</td>\n",
              "    </tr>\n",
              "    <tr>\n",
              "      <th>3</th>\n",
              "      <td>2487200875</td>\n",
              "      <td>20141209T000000</td>\n",
              "      <td>604000.0</td>\n",
              "      <td>4</td>\n",
              "      <td>3.00</td>\n",
              "      <td>1960</td>\n",
              "      <td>5000</td>\n",
              "      <td>1.0</td>\n",
              "      <td>0</td>\n",
              "      <td>0</td>\n",
              "      <td>5</td>\n",
              "      <td>7</td>\n",
              "      <td>1050</td>\n",
              "      <td>910</td>\n",
              "      <td>1965</td>\n",
              "      <td>0</td>\n",
              "      <td>98136</td>\n",
              "      <td>47.5208</td>\n",
              "      <td>-122.393</td>\n",
              "      <td>1360</td>\n",
              "      <td>5000</td>\n",
              "    </tr>\n",
              "    <tr>\n",
              "      <th>4</th>\n",
              "      <td>1954400510</td>\n",
              "      <td>20150218T000000</td>\n",
              "      <td>510000.0</td>\n",
              "      <td>3</td>\n",
              "      <td>2.00</td>\n",
              "      <td>1680</td>\n",
              "      <td>8080</td>\n",
              "      <td>1.0</td>\n",
              "      <td>0</td>\n",
              "      <td>0</td>\n",
              "      <td>3</td>\n",
              "      <td>8</td>\n",
              "      <td>1680</td>\n",
              "      <td>0</td>\n",
              "      <td>1987</td>\n",
              "      <td>0</td>\n",
              "      <td>98074</td>\n",
              "      <td>47.6168</td>\n",
              "      <td>-122.045</td>\n",
              "      <td>1800</td>\n",
              "      <td>7503</td>\n",
              "    </tr>\n",
              "  </tbody>\n",
              "</table>\n",
              "</div>"
            ],
            "text/plain": [
              "           id             date     price  ...     long  sqft_living15  sqft_lot15\n",
              "0  7129300520  20141013T000000  221900.0  ... -122.257           1340        5650\n",
              "1  6414100192  20141209T000000  538000.0  ... -122.319           1690        7639\n",
              "2  5631500400  20150225T000000  180000.0  ... -122.233           2720        8062\n",
              "3  2487200875  20141209T000000  604000.0  ... -122.393           1360        5000\n",
              "4  1954400510  20150218T000000  510000.0  ... -122.045           1800        7503\n",
              "\n",
              "[5 rows x 21 columns]"
            ]
          },
          "metadata": {
            "tags": []
          },
          "execution_count": 3
        }
      ]
    },
    {
      "cell_type": "code",
      "metadata": {
        "id": "Wg1mLD--dZ2c",
        "colab": {
          "base_uri": "https://localhost:8080/"
        },
        "outputId": "3479b41f-ced4-49ec-e2d7-93de0e696858"
      },
      "source": [
        "data.dtypes"
      ],
      "execution_count": 4,
      "outputs": [
        {
          "output_type": "execute_result",
          "data": {
            "text/plain": [
              "id                 int64\n",
              "date              object\n",
              "price            float64\n",
              "bedrooms           int64\n",
              "bathrooms        float64\n",
              "sqft_living        int64\n",
              "sqft_lot           int64\n",
              "floors           float64\n",
              "waterfront         int64\n",
              "view               int64\n",
              "condition          int64\n",
              "grade              int64\n",
              "sqft_above         int64\n",
              "sqft_basement      int64\n",
              "yr_built           int64\n",
              "yr_renovated       int64\n",
              "zipcode            int64\n",
              "lat              float64\n",
              "long             float64\n",
              "sqft_living15      int64\n",
              "sqft_lot15         int64\n",
              "dtype: object"
            ]
          },
          "metadata": {
            "tags": []
          },
          "execution_count": 4
        }
      ]
    },
    {
      "cell_type": "code",
      "metadata": {
        "id": "CYsH75rbd-6a",
        "colab": {
          "base_uri": "https://localhost:8080/"
        },
        "outputId": "18970813-6607-457a-86b5-5fc697cf9c37"
      },
      "source": [
        "type(data['price'])"
      ],
      "execution_count": 5,
      "outputs": [
        {
          "output_type": "execute_result",
          "data": {
            "text/plain": [
              "pandas.core.series.Series"
            ]
          },
          "metadata": {
            "tags": []
          },
          "execution_count": 5
        }
      ]
    },
    {
      "cell_type": "code",
      "metadata": {
        "id": "kzD15qWwv6ao"
      },
      "source": [
        "Y=data['price']\r\n",
        "features = ['bedrooms','bathrooms','sqft_living','sqft_lot','floors','sqft_above','sqft_basement','yr_built','yr_renovated']       \r\n",
        "H=np.matrix(data[features])\r\n",
        "D=H.shape"
      ],
      "execution_count": 7,
      "outputs": []
    },
    {
      "cell_type": "code",
      "metadata": {
        "id": "6F00MTD0exku",
        "colab": {
          "base_uri": "https://localhost:8080/"
        },
        "outputId": "953371dd-b208-4d25-d269-c4c3a78fd253"
      },
      "source": [
        "type(H)"
      ],
      "execution_count": 8,
      "outputs": [
        {
          "output_type": "execute_result",
          "data": {
            "text/plain": [
              "numpy.matrix"
            ]
          },
          "metadata": {
            "tags": []
          },
          "execution_count": 8
        }
      ]
    },
    {
      "cell_type": "markdown",
      "metadata": {
        "id": "dcBLNlFV5UsR"
      },
      "source": [
        "# feature extraction"
      ]
    },
    {
      "cell_type": "markdown",
      "metadata": {
        "id": "pRsQQOGG5xPx"
      },
      "source": [
        "# Close form\r\n",
        "# $w=(H^T H)^{-1}H^TY$"
      ]
    },
    {
      "cell_type": "code",
      "metadata": {
        "id": "ejOK5LxwjjQx",
        "colab": {
          "base_uri": "https://localhost:8080/"
        },
        "outputId": "cd8b9beb-558c-4fab-8108-5177886d6719"
      },
      "source": [
        "Yt1=np.array(Y)\r\n",
        "Yt1.shape"
      ],
      "execution_count": 9,
      "outputs": [
        {
          "output_type": "execute_result",
          "data": {
            "text/plain": [
              "(21613,)"
            ]
          },
          "metadata": {
            "tags": []
          },
          "execution_count": 9
        }
      ]
    },
    {
      "cell_type": "code",
      "metadata": {
        "id": "rAqh7Ec6kInj",
        "colab": {
          "base_uri": "https://localhost:8080/"
        },
        "outputId": "d9484cea-2daf-4d30-e0dc-48c103bb1fcd"
      },
      "source": [
        "Yt1=Yt1.reshape((Yt1.shape[0],1))\r\n",
        "Yt1.shape"
      ],
      "execution_count": 10,
      "outputs": [
        {
          "output_type": "execute_result",
          "data": {
            "text/plain": [
              "(21613, 1)"
            ]
          },
          "metadata": {
            "tags": []
          },
          "execution_count": 10
        }
      ]
    },
    {
      "cell_type": "code",
      "metadata": {
        "id": "eiDZmjezlOBY",
        "colab": {
          "base_uri": "https://localhost:8080/"
        },
        "outputId": "027dd20f-d780-40b1-bbd7-7d177bb9133f"
      },
      "source": [
        "type(Yt1)"
      ],
      "execution_count": 11,
      "outputs": [
        {
          "output_type": "execute_result",
          "data": {
            "text/plain": [
              "numpy.ndarray"
            ]
          },
          "metadata": {
            "tags": []
          },
          "execution_count": 11
        }
      ]
    },
    {
      "cell_type": "code",
      "metadata": {
        "id": "9tyPVIaxj_4K",
        "colab": {
          "base_uri": "https://localhost:8080/"
        },
        "outputId": "15576888-1a9f-405e-9b6f-0717e229b511"
      },
      "source": [
        "Yt2=np.matrix(Y)\r\n",
        "Yt2.shape"
      ],
      "execution_count": 12,
      "outputs": [
        {
          "output_type": "execute_result",
          "data": {
            "text/plain": [
              "(1, 21613)"
            ]
          },
          "metadata": {
            "tags": []
          },
          "execution_count": 12
        }
      ]
    },
    {
      "cell_type": "code",
      "metadata": {
        "id": "4VIiru6EjnDH",
        "colab": {
          "base_uri": "https://localhost:8080/"
        },
        "outputId": "b1494c2c-f168-44f3-835e-86ff60eefdf5"
      },
      "source": [
        "Yt2=Yt2.T\r\n",
        "Yt2.shape"
      ],
      "execution_count": 13,
      "outputs": [
        {
          "output_type": "execute_result",
          "data": {
            "text/plain": [
              "(21613, 1)"
            ]
          },
          "metadata": {
            "tags": []
          },
          "execution_count": 13
        }
      ]
    },
    {
      "cell_type": "code",
      "metadata": {
        "id": "F6mi76eMkt31",
        "colab": {
          "base_uri": "https://localhost:8080/"
        },
        "outputId": "c8f52c1a-b365-4725-d72b-fdfcc33fce37"
      },
      "source": [
        "type(Yt2)"
      ],
      "execution_count": 14,
      "outputs": [
        {
          "output_type": "execute_result",
          "data": {
            "text/plain": [
              "numpy.matrix"
            ]
          },
          "metadata": {
            "tags": []
          },
          "execution_count": 14
        }
      ]
    },
    {
      "cell_type": "code",
      "metadata": {
        "id": "gv6flitUwwsZ"
      },
      "source": [
        "HT=H.T"
      ],
      "execution_count": 15,
      "outputs": []
    },
    {
      "cell_type": "code",
      "metadata": {
        "colab": {
          "base_uri": "https://localhost:8080/"
        },
        "id": "6GFjWt5DPOTz",
        "outputId": "fa28b890-9f4c-48cf-fe34-8b06aa76d9a1"
      },
      "source": [
        "HT.shape"
      ],
      "execution_count": 16,
      "outputs": [
        {
          "output_type": "execute_result",
          "data": {
            "text/plain": [
              "(9, 21613)"
            ]
          },
          "metadata": {
            "tags": []
          },
          "execution_count": 16
        }
      ]
    },
    {
      "cell_type": "code",
      "metadata": {
        "colab": {
          "base_uri": "https://localhost:8080/"
        },
        "id": "ifyW2GM7w3bn",
        "outputId": "124e2d05-8730-40d1-b966-c8296cdfeb71"
      },
      "source": [
        "t1=HT*H\r\n",
        "t2=np.linalg.pinv(t1)\r\n",
        "t3=t2*HT\r\n",
        "w = t3*Yt1\r\n",
        "w"
      ],
      "execution_count": 17,
      "outputs": [
        {
          "output_type": "execute_result",
          "data": {
            "text/plain": [
              "matrix([[-5.57050697e+04],\n",
              "        [ 2.87151030e+03],\n",
              "        [ 2.12835259e+02],\n",
              "        [-3.41284570e-01],\n",
              "        [ 1.48684739e+04],\n",
              "        [ 9.19455753e+01],\n",
              "        [ 1.20889247e+02],\n",
              "        [ 2.78751278e+01],\n",
              "        [ 7.79024992e+01]])"
            ]
          },
          "metadata": {
            "tags": []
          },
          "execution_count": 17
        }
      ]
    },
    {
      "cell_type": "code",
      "metadata": {
        "id": "Aks6FQo_qktD"
      },
      "source": [
        "Y_hat=H*w"
      ],
      "execution_count": 18,
      "outputs": []
    },
    {
      "cell_type": "code",
      "metadata": {
        "id": "ULWnSg-ZAlUT",
        "colab": {
          "base_uri": "https://localhost:8080/",
          "height": 89
        },
        "outputId": "6bf6b86d-549f-480a-eef1-dfe9226d3a67"
      },
      "source": [
        "RSS=np.asscalar(((np.array(Y).reshape(Y.shape[0],1)-Y_hat).T)*(np.array(Y).reshape(Y.shape[0],1)-Y_hat))\r\n",
        "\"{:e}\".format(RSS)"
      ],
      "execution_count": 19,
      "outputs": [
        {
          "output_type": "stream",
          "text": [
            "/usr/local/lib/python3.6/dist-packages/ipykernel_launcher.py:1: DeprecationWarning: np.asscalar(a) is deprecated since NumPy v1.16, use a.item() instead\n",
            "  \"\"\"Entry point for launching an IPython kernel.\n"
          ],
          "name": "stderr"
        },
        {
          "output_type": "execute_result",
          "data": {
            "application/vnd.google.colaboratory.intrinsic+json": {
              "type": "string"
            },
            "text/plain": [
              "'1.410291e+15'"
            ]
          },
          "metadata": {
            "tags": []
          },
          "execution_count": 19
        }
      ]
    },
    {
      "cell_type": "code",
      "metadata": {
        "id": "eGVqdFS5gUZW"
      },
      "source": [
        "Y=np.array(Y).reshape(Y.shape[0],1)\r\n",
        "D=H.shape[1]\r\n"
      ],
      "execution_count": 21,
      "outputs": []
    },
    {
      "cell_type": "markdown",
      "metadata": {
        "id": "Y6UMLJSxKbbu"
      },
      "source": [
        "Gradient Descent\r\n",
        "\r\n",
        "Wt+1=Wt−η∇WtRSS(W) \r\n",
        "  ∇wtRSS(W)=−2HT(Y−Y^) \r\n",
        "  Y^=H×W"
      ]
    },
    {
      "cell_type": "code",
      "metadata": {
        "id": "aPEzpP1Agim2",
        "outputId": "10b70534-6556-4600-9397-92abf85d5c2d",
        "colab": {
          "base_uri": "https://localhost:8080/"
        }
      },
      "source": [
        "eta_list = [1e-20,1e-18]\r\n",
        "eta_RSS=dict()\r\n",
        "for i in range(len(eta_list)):\r\n",
        "  W=np.zeros((D,1)) \r\n",
        "  RSS_list=[]          \r\n",
        "  g_list=[]  \r\n",
        "  t=1\r\n",
        "  e=0.0001\r\n",
        "  c=False\r\n",
        "  T = 10000\r\n",
        "  t=0\r\n",
        "  eta=eta_list[i]\r\n",
        "  while not c:\r\n",
        "    Y_hat=H*W\r\n",
        "    RSS=np.asscalar(((Y-Y_hat).T)*(Y-Y_hat))\r\n",
        "    RSS_list.append(RSS)\r\n",
        "    g= -2* H.T*(Y-Y_hat)\r\n",
        "    g_list.append(g)\r\n",
        "    if abs(g).sum()<e:\r\n",
        "      c=True  \r\n",
        "    if t>=T:\r\n",
        "      c=True\r\n",
        "    W=W-eta*g \r\n",
        "    t+=1\r\n",
        "  eta_RSS[i]=RSS_list\r\n",
        "\r\n",
        "\r\n"
      ],
      "execution_count": 22,
      "outputs": [
        {
          "output_type": "stream",
          "text": [
            "/usr/local/lib/python3.6/dist-packages/ipykernel_launcher.py:15: DeprecationWarning: np.asscalar(a) is deprecated since NumPy v1.16, use a.item() instead\n",
            "  from ipykernel import kernelapp as app\n"
          ],
          "name": "stderr"
        }
      ]
    },
    {
      "cell_type": "code",
      "metadata": {
        "id": "vzU5lc0FrKce",
        "colab": {
          "base_uri": "https://localhost:8080/"
        },
        "outputId": "2bdd5f51-5f5a-41c8-914e-26457b8aba24"
      },
      "source": [
        "g"
      ],
      "execution_count": 23,
      "outputs": [
        {
          "output_type": "execute_result",
          "data": {
            "text/plain": [
              "matrix([[-7.65457652e+10],\n",
              "        [-5.13314037e+10],\n",
              "        [-5.39335078e+13],\n",
              "        [-1.76182771e+14],\n",
              "        [-3.41949182e+10],\n",
              "        [-4.54570658e+13],\n",
              "        [-8.47644202e+12],\n",
              "        [-4.22113749e+13],\n",
              "        [-2.59665370e+12]])"
            ]
          },
          "metadata": {
            "tags": []
          },
          "execution_count": 23
        }
      ]
    },
    {
      "cell_type": "code",
      "metadata": {
        "id": "8xJOm6O7Ovda",
        "outputId": "3dca7646-4ea1-4b4b-fcf9-5869113b7c31",
        "colab": {
          "base_uri": "https://localhost:8080/",
          "height": 716
        }
      },
      "source": [
        "fig = plt.figure(figsize=(8,12))\r\n",
        "for i in range(len(eta_RSS)):\r\n",
        "  ax = fig.add_subplot(len(eta_RSS),1,i+1)\r\n",
        "  ax.plot(np.arange(len(eta_RSS[i])),eta_RSS[i])\r\n",
        "  ax.set_title(str(eta_list[i]))"
      ],
      "execution_count": 24,
      "outputs": [
        {
          "output_type": "display_data",
          "data": {
            "image/png": "[encoded data removed]",
            "text/plain": [
              "<Figure size 576x864 with 2 Axes>"
            ]
          },
          "metadata": {
            "tags": [],
            "needs_background": "light"
          }
        }
      ]
    },
    {
      "cell_type": "code",
      "metadata": {
        "id": "JpkjXDDKcrWL",
        "outputId": "b720accd-53a7-4572-9ff6-f07443c3ba65",
        "colab": {
          "base_uri": "https://localhost:8080/"
        }
      },
      "source": [
        "eta_RSS[0][-1]"
      ],
      "execution_count": 25,
      "outputs": [
        {
          "output_type": "execute_result",
          "data": {
            "text/plain": [
              "9199711970309108.0"
            ]
          },
          "metadata": {
            "tags": []
          },
          "execution_count": 25
        }
      ]
    },
    {
      "cell_type": "code",
      "metadata": {
        "id": "3mTx8u1_dh1M",
        "outputId": "b9f651b7-c607-434f-a3d0-0ccf6c12e2a6",
        "colab": {
          "base_uri": "https://localhost:8080/",
          "height": 35
        }
      },
      "source": [
        "\"{:e}\".format(eta_RSS[1][-1])"
      ],
      "execution_count": 26,
      "outputs": [
        {
          "output_type": "execute_result",
          "data": {
            "application/vnd.google.colaboratory.intrinsic+json": {
              "type": "string"
            },
            "text/plain": [
              "'8.327160e+15'"
            ]
          },
          "metadata": {
            "tags": []
          },
          "execution_count": 26
        }
      ]
    },
    {
      "cell_type": "code",
      "metadata": {
        "id": "iWFCzRUwnpmR"
      },
      "source": [
        "from sklearn.linear_model import LinearRegression"
      ],
      "execution_count": 27,
      "outputs": []
    },
    {
      "cell_type": "code",
      "metadata": {
        "id": "xgckoZmAwIQ9"
      },
      "source": [
        "y= data['price']\r\n",
        "features = ['bedrooms','bathrooms','sqft_living','sqft_lot','floors','sqft_above','sqft_basement','yr_built','yr_renovated']       \r\n",
        "X=data[features]"
      ],
      "execution_count": 28,
      "outputs": []
    },
    {
      "cell_type": "code",
      "metadata": {
        "id": "XQpAiTbFxa0G"
      },
      "source": [
        "lr_model= LinearRegression()"
      ],
      "execution_count": 29,
      "outputs": []
    },
    {
      "cell_type": "code",
      "metadata": {
        "id": "D5G9k2p-x1qU",
        "outputId": "143024ad-a294-44fc-95e7-ce0f1434dd9d",
        "colab": {
          "base_uri": "https://localhost:8080/"
        }
      },
      "source": [
        "lr_model.fit(X,y)"
      ],
      "execution_count": 30,
      "outputs": [
        {
          "output_type": "execute_result",
          "data": {
            "text/plain": [
              "LinearRegression(copy_X=True, fit_intercept=True, n_jobs=None, normalize=False)"
            ]
          },
          "metadata": {
            "tags": []
          },
          "execution_count": 30
        }
      ]
    },
    {
      "cell_type": "code",
      "metadata": {
        "id": "IPtJ9rkTx2ez"
      },
      "source": [
        "y_hat = lr_model.predict(X)"
      ],
      "execution_count": 31,
      "outputs": []
    },
    {
      "cell_type": "code",
      "metadata": {
        "id": "bHVcpE8Px97c",
        "outputId": "26e932ae-03ce-4851-b8bd-5c14b98ab710",
        "colab": {
          "base_uri": "https://localhost:8080/",
          "height": 35
        }
      },
      "source": [
        "RSS = np.sum((y-y_hat)**2)\r\n",
        "\"{:e}\".format(RSS)"
      ],
      "execution_count": 32,
      "outputs": [
        {
          "output_type": "execute_result",
          "data": {
            "application/vnd.google.colaboratory.intrinsic+json": {
              "type": "string"
            },
            "text/plain": [
              "'1.290962e+15'"
            ]
          },
          "metadata": {
            "tags": []
          },
          "execution_count": 32
        }
      ]
    },
    {
      "cell_type": "code",
      "metadata": {
        "id": "N4JL0RqByUxj"
      },
      "source": [
        "from sklearn.ensemble import RandomForestRegressor\r\n"
      ],
      "execution_count": 33,
      "outputs": []
    },
    {
      "cell_type": "code",
      "metadata": {
        "id": "UVSfOtIj0PUd"
      },
      "source": [
        "rf = RandomForestRegressor(n_estimators = 1000, random_state = 42)\r\n"
      ],
      "execution_count": 34,
      "outputs": []
    },
    {
      "cell_type": "code",
      "metadata": {
        "id": "sJ4i_tag0Qo0",
        "outputId": "312d9a5b-5a0f-48d3-aec1-45350a20dcf2",
        "colab": {
          "base_uri": "https://localhost:8080/"
        }
      },
      "source": [
        "rf.fit(X, y)\r\n"
      ],
      "execution_count": 35,
      "outputs": [
        {
          "output_type": "execute_result",
          "data": {
            "text/plain": [
              "RandomForestRegressor(bootstrap=True, ccp_alpha=0.0, criterion='mse',\n",
              "                      max_depth=None, max_features='auto', max_leaf_nodes=None,\n",
              "                      max_samples=None, min_impurity_decrease=0.0,\n",
              "                      min_impurity_split=None, min_samples_leaf=1,\n",
              "                      min_samples_split=2, min_weight_fraction_leaf=0.0,\n",
              "                      n_estimators=1000, n_jobs=None, oob_score=False,\n",
              "                      random_state=42, verbose=0, warm_start=False)"
            ]
          },
          "metadata": {
            "tags": []
          },
          "execution_count": 35
        }
      ]
    },
    {
      "cell_type": "code",
      "metadata": {
        "id": "V9EL7EfE0Wn8"
      },
      "source": [
        "y_hat = rf.predict(X)\r\n"
      ],
      "execution_count": 36,
      "outputs": []
    },
    {
      "cell_type": "code",
      "metadata": {
        "id": "_DjXP7cg01vB",
        "outputId": "093f09cf-2b66-4c0c-94f7-5d60063c83c7",
        "colab": {
          "base_uri": "https://localhost:8080/",
          "height": 35
        }
      },
      "source": [
        "RSS = np.sum((y-y_hat)**2)\r\n",
        "\"{:e}\".format(RSS)"
      ],
      "execution_count": 37,
      "outputs": [
        {
          "output_type": "execute_result",
          "data": {
            "application/vnd.google.colaboratory.intrinsic+json": {
              "type": "string"
            },
            "text/plain": [
              "'1.528831e+14'"
            ]
          },
          "metadata": {
            "tags": []
          },
          "execution_count": 37
        }
      ]
    },
    {
      "cell_type": "code",
      "metadata": {
        "id": "bLdFbqyY04mE"
      },
      "source": [
        ""
      ],
      "execution_count": null,
      "outputs": []
    }
  ]
}