{
  "nbformat": 4,
  "nbformat_minor": 0,
  "metadata": {
    "colab": {
      "name": "Copy of Untitled1.ipynb",
      "provenance": [],
      "authorship_tag": "ABX9TyNSlWnv79hw5sULcR7PLpIZ",
      "include_colab_link": true
    },
    "kernelspec": {
      "name": "python3",
      "display_name": "Python 3"
    }
  },
  "cells": [
    {
      "cell_type": "markdown",
      "metadata": {
        "id": "view-in-github",
        "colab_type": "text"
      },
      "source": [
        "<a href=\"https://colab.research.google.com/github/ZahraMoeini/Regression/blob/main/multiple%20regression.ipynb\" target=\"_parent\"><img src=\"https://colab.research.google.com/assets/colab-badge.svg\" alt=\"Open In Colab\"/></a>"
      ]
    },
    {
      "cell_type": "markdown",
      "metadata": {
        "id": "jBWlPIL84Fyq"
      },
      "source": [
        "#Y=H*W+epsilon"
      ]
    },
    {
      "cell_type": "code",
      "metadata": {
        "id": "_6UIbre4nfsT"
      },
      "source": [
        "import numpy as np\r\n",
        "import pandas as pd\r\n",
        "import matplotlib.pyplot as plt"
      ],
      "execution_count": null,
      "outputs": []
    },
    {
      "cell_type": "code",
      "metadata": {
        "id": "08X0FjYhv1wk"
      },
      "source": [
        "link =  \"https://raw.githubusercontent.com/ZahraMoeini/Regression/main/Data/kc_house_data.csv\"\r\n"
      ],
      "execution_count": null,
      "outputs": []
    },
    {
      "cell_type": "code",
      "metadata": {
        "colab": {
          "base_uri": "https://localhost:8080/",
          "height": 215
        },
        "id": "xw0qgfUsv2ag",
        "outputId": "ed09acbd-77de-48f2-a7f1-8ef08baa5959"
      },
      "source": [
        "data = pd.read_csv(link, error_bad_lines=False )\r\n",
        "data.head()"
      ],
      "execution_count": null,
      "outputs": [
        {
          "output_type": "execute_result",
          "data": {
            "text/html": [
              "<div>\n",
              "<style scoped>\n",
              "    .dataframe tbody tr th:only-of-type {\n",
              "        vertical-align: middle;\n",
              "    }\n",
              "\n",
              "    .dataframe tbody tr th {\n",
              "        vertical-align: top;\n",
              "    }\n",
              "\n",
              "    .dataframe thead th {\n",
              "        text-align: right;\n",
              "    }\n",
              "</style>\n",
              "<table border=\"1\" class=\"dataframe\">\n",
              "  <thead>\n",
              "    <tr style=\"text-align: right;\">\n",
              "      <th></th>\n",
              "      <th>id</th>\n",
              "      <th>date</th>\n",
              "      <th>price</th>\n",
              "      <th>bedrooms</th>\n",
              "      <th>bathrooms</th>\n",
              "      <th>sqft_living</th>\n",
              "      <th>sqft_lot</th>\n",
              "      <th>floors</th>\n",
              "      <th>waterfront</th>\n",
              "      <th>view</th>\n",
              "      <th>condition</th>\n",
              "      <th>grade</th>\n",
              "      <th>sqft_above</th>\n",
              "      <th>sqft_basement</th>\n",
              "      <th>yr_built</th>\n",
              "      <th>yr_renovated</th>\n",
              "      <th>zipcode</th>\n",
              "      <th>lat</th>\n",
              "      <th>long</th>\n",
              "      <th>sqft_living15</th>\n",
              "      <th>sqft_lot15</th>\n",
              "    </tr>\n",
              "  </thead>\n",
              "  <tbody>\n",
              "    <tr>\n",
              "      <th>0</th>\n",
              "      <td>7129300520</td>\n",
              "      <td>20141013T000000</td>\n",
              "      <td>221900.0</td>\n",
              "      <td>3</td>\n",
              "      <td>1.00</td>\n",
              "      <td>1180</td>\n",
              "      <td>5650</td>\n",
              "      <td>1.0</td>\n",
              "      <td>0</td>\n",
              "      <td>0</td>\n",
              "      <td>3</td>\n",
              "      <td>7</td>\n",
              "      <td>1180</td>\n",
              "      <td>0</td>\n",
              "      <td>1955</td>\n",
              "      <td>0</td>\n",
              "      <td>98178</td>\n",
              "      <td>47.5112</td>\n",
              "      <td>-122.257</td>\n",
              "      <td>1340</td>\n",
              "      <td>5650</td>\n",
              "    </tr>\n",
              "    <tr>\n",
              "      <th>1</th>\n",
              "      <td>6414100192</td>\n",
              "      <td>20141209T000000</td>\n",
              "      <td>538000.0</td>\n",
              "      <td>3</td>\n",
              "      <td>2.25</td>\n",
              "      <td>2570</td>\n",
              "      <td>7242</td>\n",
              "      <td>2.0</td>\n",
              "      <td>0</td>\n",
              "      <td>0</td>\n",
              "      <td>3</td>\n",
              "      <td>7</td>\n",
              "      <td>2170</td>\n",
              "      <td>400</td>\n",
              "      <td>1951</td>\n",
              "      <td>1991</td>\n",
              "      <td>98125</td>\n",
              "      <td>47.7210</td>\n",
              "      <td>-122.319</td>\n",
              "      <td>1690</td>\n",
              "      <td>7639</td>\n",
              "    </tr>\n",
              "    <tr>\n",
              "      <th>2</th>\n",
              "      <td>5631500400</td>\n",
              "      <td>20150225T000000</td>\n",
              "      <td>180000.0</td>\n",
              "      <td>2</td>\n",
              "      <td>1.00</td>\n",
              "      <td>770</td>\n",
              "      <td>10000</td>\n",
              "      <td>1.0</td>\n",
              "      <td>0</td>\n",
              "      <td>0</td>\n",
              "      <td>3</td>\n",
              "      <td>6</td>\n",
              "      <td>770</td>\n",
              "      <td>0</td>\n",
              "      <td>1933</td>\n",
              "      <td>0</td>\n",
              "      <td>98028</td>\n",
              "      <td>47.7379</td>\n",
              "      <td>-122.233</td>\n",
              "      <td>2720</td>\n",
              "      <td>8062</td>\n",
              "    </tr>\n",
              "    <tr>\n",
              "      <th>3</th>\n",
              "      <td>2487200875</td>\n",
              "      <td>20141209T000000</td>\n",
              "      <td>604000.0</td>\n",
              "      <td>4</td>\n",
              "      <td>3.00</td>\n",
              "      <td>1960</td>\n",
              "      <td>5000</td>\n",
              "      <td>1.0</td>\n",
              "      <td>0</td>\n",
              "      <td>0</td>\n",
              "      <td>5</td>\n",
              "      <td>7</td>\n",
              "      <td>1050</td>\n",
              "      <td>910</td>\n",
              "      <td>1965</td>\n",
              "      <td>0</td>\n",
              "      <td>98136</td>\n",
              "      <td>47.5208</td>\n",
              "      <td>-122.393</td>\n",
              "      <td>1360</td>\n",
              "      <td>5000</td>\n",
              "    </tr>\n",
              "    <tr>\n",
              "      <th>4</th>\n",
              "      <td>1954400510</td>\n",
              "      <td>20150218T000000</td>\n",
              "      <td>510000.0</td>\n",
              "      <td>3</td>\n",
              "      <td>2.00</td>\n",
              "      <td>1680</td>\n",
              "      <td>8080</td>\n",
              "      <td>1.0</td>\n",
              "      <td>0</td>\n",
              "      <td>0</td>\n",
              "      <td>3</td>\n",
              "      <td>8</td>\n",
              "      <td>1680</td>\n",
              "      <td>0</td>\n",
              "      <td>1987</td>\n",
              "      <td>0</td>\n",
              "      <td>98074</td>\n",
              "      <td>47.6168</td>\n",
              "      <td>-122.045</td>\n",
              "      <td>1800</td>\n",
              "      <td>7503</td>\n",
              "    </tr>\n",
              "  </tbody>\n",
              "</table>\n",
              "</div>"
            ],
            "text/plain": [
              "           id             date     price  ...     long  sqft_living15  sqft_lot15\n",
              "0  7129300520  20141013T000000  221900.0  ... -122.257           1340        5650\n",
              "1  6414100192  20141209T000000  538000.0  ... -122.319           1690        7639\n",
              "2  5631500400  20150225T000000  180000.0  ... -122.233           2720        8062\n",
              "3  2487200875  20141209T000000  604000.0  ... -122.393           1360        5000\n",
              "4  1954400510  20150218T000000  510000.0  ... -122.045           1800        7503\n",
              "\n",
              "[5 rows x 21 columns]"
            ]
          },
          "metadata": {
            "tags": []
          },
          "execution_count": 106
        }
      ]
    },
    {
      "cell_type": "code",
      "metadata": {
        "id": "Wg1mLD--dZ2c",
        "colab": {
          "base_uri": "https://localhost:8080/"
        },
        "outputId": "46e44fb7-df7c-469d-8bdf-b76bae622945"
      },
      "source": [
        "data.dtypes"
      ],
      "execution_count": null,
      "outputs": [
        {
          "output_type": "execute_result",
          "data": {
            "text/plain": [
              "id                 int64\n",
              "date              object\n",
              "price            float64\n",
              "bedrooms           int64\n",
              "bathrooms        float64\n",
              "sqft_living        int64\n",
              "sqft_lot           int64\n",
              "floors           float64\n",
              "waterfront         int64\n",
              "view               int64\n",
              "condition          int64\n",
              "grade              int64\n",
              "sqft_above         int64\n",
              "sqft_basement      int64\n",
              "yr_built           int64\n",
              "yr_renovated       int64\n",
              "zipcode            int64\n",
              "lat              float64\n",
              "long             float64\n",
              "sqft_living15      int64\n",
              "sqft_lot15         int64\n",
              "dtype: object"
            ]
          },
          "metadata": {
            "tags": []
          },
          "execution_count": 107
        }
      ]
    },
    {
      "cell_type": "code",
      "metadata": {
        "id": "CYsH75rbd-6a",
        "colab": {
          "base_uri": "https://localhost:8080/"
        },
        "outputId": "026cea50-8f29-45f6-920c-a983079f2d40"
      },
      "source": [
        "type(data['price'])"
      ],
      "execution_count": null,
      "outputs": [
        {
          "output_type": "execute_result",
          "data": {
            "text/plain": [
              "pandas.core.series.Series"
            ]
          },
          "metadata": {
            "tags": []
          },
          "execution_count": 108
        }
      ]
    },
    {
      "cell_type": "code",
      "metadata": {
        "id": "kzD15qWwv6ao"
      },
      "source": [
        "Y=data['price']\r\n",
        "X=data.drop(columns=['price','id','date'])\r\n",
        "H=np.matrix(data[X.columns])\r\n",
        "D=H.shape"
      ],
      "execution_count": null,
      "outputs": []
    },
    {
      "cell_type": "code",
      "metadata": {
        "id": "6F00MTD0exku",
        "colab": {
          "base_uri": "https://localhost:8080/"
        },
        "outputId": "e8c256b0-0298-41e9-d094-2b07e10e4b65"
      },
      "source": [
        "type(H)"
      ],
      "execution_count": null,
      "outputs": [
        {
          "output_type": "execute_result",
          "data": {
            "text/plain": [
              "numpy.matrix"
            ]
          },
          "metadata": {
            "tags": []
          },
          "execution_count": 110
        }
      ]
    },
    {
      "cell_type": "markdown",
      "metadata": {
        "id": "dcBLNlFV5UsR"
      },
      "source": [
        "# feature extraction"
      ]
    },
    {
      "cell_type": "markdown",
      "metadata": {
        "id": "pRsQQOGG5xPx"
      },
      "source": [
        "# Close form\r\n",
        "# $w=(H^T H)^{-1}H^TY$"
      ]
    },
    {
      "cell_type": "code",
      "metadata": {
        "id": "ejOK5LxwjjQx",
        "colab": {
          "base_uri": "https://localhost:8080/"
        },
        "outputId": "6363d867-dfdf-4710-93fc-d8085d581549"
      },
      "source": [
        "Yt1=np.array(Y)\r\n",
        "Yt1.shape"
      ],
      "execution_count": null,
      "outputs": [
        {
          "output_type": "execute_result",
          "data": {
            "text/plain": [
              "(21613,)"
            ]
          },
          "metadata": {
            "tags": []
          },
          "execution_count": 111
        }
      ]
    },
    {
      "cell_type": "code",
      "metadata": {
        "id": "rAqh7Ec6kInj",
        "colab": {
          "base_uri": "https://localhost:8080/"
        },
        "outputId": "bd5de5b5-ea8f-434f-eba9-d7663cd6607c"
      },
      "source": [
        "Yt1=Yt1.reshape((Yt1.shape[0],1))\r\n",
        "Yt1.shape"
      ],
      "execution_count": null,
      "outputs": [
        {
          "output_type": "execute_result",
          "data": {
            "text/plain": [
              "(21613, 1)"
            ]
          },
          "metadata": {
            "tags": []
          },
          "execution_count": 112
        }
      ]
    },
    {
      "cell_type": "code",
      "metadata": {
        "id": "eiDZmjezlOBY",
        "colab": {
          "base_uri": "https://localhost:8080/"
        },
        "outputId": "00915307-0f36-47e9-feca-0f5ae1af09b2"
      },
      "source": [
        "type(Yt1)"
      ],
      "execution_count": null,
      "outputs": [
        {
          "output_type": "execute_result",
          "data": {
            "text/plain": [
              "numpy.ndarray"
            ]
          },
          "metadata": {
            "tags": []
          },
          "execution_count": 113
        }
      ]
    },
    {
      "cell_type": "code",
      "metadata": {
        "id": "9tyPVIaxj_4K",
        "colab": {
          "base_uri": "https://localhost:8080/"
        },
        "outputId": "27d431d1-d973-470c-a366-62b89bc76c5a"
      },
      "source": [
        "Yt2=np.matrix(Y)\r\n",
        "Yt2.shape"
      ],
      "execution_count": null,
      "outputs": [
        {
          "output_type": "execute_result",
          "data": {
            "text/plain": [
              "(1, 21613)"
            ]
          },
          "metadata": {
            "tags": []
          },
          "execution_count": 114
        }
      ]
    },
    {
      "cell_type": "code",
      "metadata": {
        "id": "4VIiru6EjnDH",
        "colab": {
          "base_uri": "https://localhost:8080/"
        },
        "outputId": "b06eb30f-575c-4639-c5a0-e428432de6b3"
      },
      "source": [
        "Yt2=Yt2.T\r\n",
        "Yt2.shape"
      ],
      "execution_count": null,
      "outputs": [
        {
          "output_type": "execute_result",
          "data": {
            "text/plain": [
              "(21613, 1)"
            ]
          },
          "metadata": {
            "tags": []
          },
          "execution_count": 115
        }
      ]
    },
    {
      "cell_type": "code",
      "metadata": {
        "id": "F6mi76eMkt31",
        "colab": {
          "base_uri": "https://localhost:8080/"
        },
        "outputId": "06554c8a-c856-477f-b45e-24b68df3f335"
      },
      "source": [
        "type(Yt2)"
      ],
      "execution_count": null,
      "outputs": [
        {
          "output_type": "execute_result",
          "data": {
            "text/plain": [
              "numpy.matrix"
            ]
          },
          "metadata": {
            "tags": []
          },
          "execution_count": 116
        }
      ]
    },
    {
      "cell_type": "code",
      "metadata": {
        "id": "gv6flitUwwsZ"
      },
      "source": [
        "HT=H.T"
      ],
      "execution_count": null,
      "outputs": []
    },
    {
      "cell_type": "code",
      "metadata": {
        "colab": {
          "base_uri": "https://localhost:8080/"
        },
        "id": "6GFjWt5DPOTz",
        "outputId": "1d08b77c-7dfa-40db-bfe2-24195c01df97"
      },
      "source": [
        "HT.shape"
      ],
      "execution_count": null,
      "outputs": [
        {
          "output_type": "execute_result",
          "data": {
            "text/plain": [
              "(18, 21613)"
            ]
          },
          "metadata": {
            "tags": []
          },
          "execution_count": 118
        }
      ]
    },
    {
      "cell_type": "code",
      "metadata": {
        "colab": {
          "base_uri": "https://localhost:8080/"
        },
        "id": "ifyW2GM7w3bn",
        "outputId": "8b893423-05e5-411f-fedb-18bb9c3c66ac"
      },
      "source": [
        "t1=HT*H\r\n",
        "t2=np.linalg.pinv(t1)\r\n",
        "t3=t2*HT\r\n",
        "w = t3*Yt1\r\n",
        "w"
      ],
      "execution_count": null,
      "outputs": [
        {
          "output_type": "execute_result",
          "data": {
            "text/plain": [
              "matrix([[-3.55112024e+04],\n",
              "        [ 4.10548887e+04],\n",
              "        [ 1.10266002e+02],\n",
              "        [ 1.33383123e-01],\n",
              "        [ 5.26154942e+03],\n",
              "        [ 5.83295386e+05],\n",
              "        [ 5.23552229e+04],\n",
              "        [ 2.72094356e+04],\n",
              "        [ 9.54805244e+04],\n",
              "        [ 7.13909426e+01],\n",
              "        [ 3.88695856e+01],\n",
              "        [-2.56179529e+03],\n",
              "        [ 2.04187012e+01],\n",
              "        [-5.19075568e+02],\n",
              "        [ 6.02189072e+05],\n",
              "        [-2.17900316e+05],\n",
              "        [ 2.30994435e+01],\n",
              "        [-3.76111311e-01]])"
            ]
          },
          "metadata": {
            "tags": []
          },
          "execution_count": 119
        }
      ]
    },
    {
      "cell_type": "code",
      "metadata": {
        "id": "Aks6FQo_qktD"
      },
      "source": [
        "Y_hat=H*W"
      ],
      "execution_count": null,
      "outputs": []
    },
    {
      "cell_type": "code",
      "metadata": {
        "id": "ULWnSg-ZAlUT",
        "colab": {
          "base_uri": "https://localhost:8080/",
          "height": 89
        },
        "outputId": "e4786a1b-c8aa-469b-b27b-66d443728512"
      },
      "source": [
        "RSS=np.asscalar(((np.array(Y).reshape(Y.shape[0],1)-Y_hat).T)*(np.array(Y).reshape(Y.shape[0],1)-Y_hat))\r\n",
        "\"{:e}\".format(RSS)"
      ],
      "execution_count": null,
      "outputs": [
        {
          "output_type": "stream",
          "text": [
            "/usr/local/lib/python3.6/dist-packages/ipykernel_launcher.py:1: DeprecationWarning: np.asscalar(a) is deprecated since NumPy v1.16, use a.item() instead\n",
            "  \"\"\"Entry point for launching an IPython kernel.\n"
          ],
          "name": "stderr"
        },
        {
          "output_type": "execute_result",
          "data": {
            "application/vnd.google.colaboratory.intrinsic+json": {
              "type": "string"
            },
            "text/plain": [
              "'2.886811e+15'"
            ]
          },
          "metadata": {
            "tags": []
          },
          "execution_count": 124
        }
      ]
    },
    {
      "cell_type": "code",
      "metadata": {
        "id": "eGVqdFS5gUZW"
      },
      "source": [
        "H=np.matrix(data[X.columns])\r\n",
        "Y=np.array(Y).reshape(Y.shape[0],1)\r\n",
        "D=H.shape[1]\r\n"
      ],
      "execution_count": null,
      "outputs": []
    },
    {
      "cell_type": "markdown",
      "metadata": {
        "id": "Y6UMLJSxKbbu"
      },
      "source": [
        "Gradient Descent\r\n",
        "\r\n",
        "Wt+1=Wt−η∇WtRSS(W) \r\n",
        "  ∇wtRSS(W)=−2HT(Y−Y^) \r\n",
        "  Y^=H×W"
      ]
    },
    {
      "cell_type": "code",
      "metadata": {
        "id": "aPEzpP1Agim2"
      },
      "source": [
        "eta_list = [1e-20,1e-18]\r\n",
        "eta_RSS=dict()\r\n",
        "for i in range(len(eta_list)):\r\n",
        "  W=np.zeros((D,1)) \r\n",
        "  RSS_list=[]          \r\n",
        "  g_list=[]  \r\n",
        "  t=1\r\n",
        "  e=0.0001\r\n",
        "  c=False\r\n",
        "  T = 10000\r\n",
        "  t=0\r\n",
        "  eta=eta_list[i]\r\n",
        "  while not c:\r\n",
        "    Y_hat=H*W\r\n",
        "    RSS=np.asscalar(((Y-Y_hat).T)*(Y-Y_hat))\r\n",
        "    RSS_list.append(RSS)\r\n",
        "    g= -2* H.T*(Y-Y_hat)\r\n",
        "    g_list.append(g)\r\n",
        "    if abs(g).sum()<e:\r\n",
        "      c=True  \r\n",
        "    if t>=T:\r\n",
        "      c=True\r\n",
        "    W=W-eta*g \r\n",
        "    t+=1\r\n",
        "  eta_RSS[i]=RSS_list\r\n",
        "\r\n",
        "\r\n"
      ],
      "execution_count": null,
      "outputs": []
    },
    {
      "cell_type": "code",
      "metadata": {
        "id": "vzU5lc0FrKce",
        "colab": {
          "base_uri": "https://localhost:8080/"
        },
        "outputId": "3237bce8-bc49-472c-e9df-64a221c181f7"
      },
      "source": [
        "g"
      ],
      "execution_count": null,
      "outputs": [
        {
          "output_type": "execute_result",
          "data": {
            "text/plain": [
              "matrix([[-5.63433314e+09],\n",
              "        [-6.99175613e+09],\n",
              "        [-1.05923524e+13],\n",
              "        [ 1.26888027e+13],\n",
              "        [-2.71492539e+09],\n",
              "        [-3.63635490e+08],\n",
              "        [-4.78964953e+09],\n",
              "        [-1.54924950e+09],\n",
              "        [-1.47667509e+10],\n",
              "        [-8.23595559e+12],\n",
              "        [-2.35639679e+12],\n",
              "        [-6.93973091e+11],\n",
              "        [-8.27656083e+11],\n",
              "        [-3.34328312e+13],\n",
              "        [-1.69261768e+10],\n",
              "        [ 4.17192515e+10],\n",
              "        [-6.81136972e+12],\n",
              "        [ 6.26770251e+12]])"
            ]
          },
          "metadata": {
            "tags": []
          },
          "execution_count": 125
        }
      ]
    },
    {
      "cell_type": "code",
      "metadata": {
        "id": "8xJOm6O7Ovda"
      },
      "source": [
        "fig = plt.figure(figsize=(8,12))\r\n",
        "for i in range(len(eta_RSS)):\r\n",
        "  ax = fig.add_subplot(len(eta_RSS),1,i+1)\r\n",
        "  ax.plot(np.arange(len(eta_RSS[i])),eta_RSS[i])\r\n",
        "  ax.set_title(str(eta_list[i]))"
      ],
      "execution_count": null,
      "outputs": []
    },
    {
      "cell_type": "code",
      "metadata": {
        "id": "JpkjXDDKcrWL"
      },
      "source": [
        "eta_RSS[0][-1]"
      ],
      "execution_count": null,
      "outputs": []
    },
    {
      "cell_type": "code",
      "metadata": {
        "id": "3mTx8u1_dh1M"
      },
      "source": [
        "\"{:e}\".format(eta_RSS[1][-1])"
      ],
      "execution_count": null,
      "outputs": []
    },
    {
      "cell_type": "code",
      "metadata": {
        "id": "iWFCzRUwnpmR"
      },
      "source": [
        "format short"
      ],
      "execution_count": null,
      "outputs": []
    }
  ]
}